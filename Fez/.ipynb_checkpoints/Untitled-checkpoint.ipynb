{
 "cells": [
  {
   "cell_type": "code",
   "execution_count": 83,
   "metadata": {},
   "outputs": [],
   "source": [
    "import numpy as np\n",
    "import pandas as pd\n",
    "from matplotlib import pyplot as plt\n",
    "from sklearn.datasets import load_breast_cancer\n",
    "from sklearn.metrics import confusion_matrix\n",
    "from sklearn.neighbors import KNeighborsRegressor\n",
    "from sklearn.model_selection import train_test_split\n",
    "import seaborn as sns\n",
    "from sklearn.model_selection import train_test_split\n",
    "from sklearn.preprocessing import StandardScaler\n",
    "from sklearn.model_selection import KFold, cross_val_score, StratifiedKFold \n",
    "from sklearn.metrics import r2_score, mean_squared_error, mean_squared_error, make_scorer\n",
    "sns.set()\n",
    "basement=pd.read_csv('basementX.csv').iloc[:, 1:]\n",
    "scaler = StandardScaler()\n",
    "basement=basement.fillna(0)"
   ]
  },
  {
   "cell_type": "code",
   "execution_count": 84,
   "metadata": {},
   "outputs": [
    {
     "data": {
      "text/plain": [
       "0       208500.0\n",
       "1       181500.0\n",
       "2       223500.0\n",
       "3       140000.0\n",
       "4       250000.0\n",
       "5       143000.0\n",
       "6       307000.0\n",
       "7       200000.0\n",
       "8       129900.0\n",
       "9       118000.0\n",
       "10      129500.0\n",
       "11      345000.0\n",
       "12      144000.0\n",
       "13      279500.0\n",
       "14      157000.0\n",
       "15      132000.0\n",
       "16      149000.0\n",
       "17       90000.0\n",
       "18      159000.0\n",
       "19      139000.0\n",
       "20      325300.0\n",
       "21      139400.0\n",
       "22      230000.0\n",
       "23      129900.0\n",
       "24      154000.0\n",
       "25      256300.0\n",
       "26      134800.0\n",
       "27      306000.0\n",
       "28      207500.0\n",
       "29       68500.0\n",
       "          ...   \n",
       "2887         0.0\n",
       "2888         0.0\n",
       "2889         0.0\n",
       "2890         0.0\n",
       "2891         0.0\n",
       "2892         0.0\n",
       "2893         0.0\n",
       "2894         0.0\n",
       "2895         0.0\n",
       "2896         0.0\n",
       "2897         0.0\n",
       "2898         0.0\n",
       "2899         0.0\n",
       "2900         0.0\n",
       "2901         0.0\n",
       "2902         0.0\n",
       "2903         0.0\n",
       "2904         0.0\n",
       "2905         0.0\n",
       "2906         0.0\n",
       "2907         0.0\n",
       "2908         0.0\n",
       "2909         0.0\n",
       "2910         0.0\n",
       "2911         0.0\n",
       "2912         0.0\n",
       "2913         0.0\n",
       "2914         0.0\n",
       "2915         0.0\n",
       "2916         0.0\n",
       "Name: SalePrice, Length: 2917, dtype: float64"
      ]
     },
     "execution_count": 84,
     "metadata": {},
     "output_type": "execute_result"
    }
   ],
   "source": [
    "prices=basement.SalePrice.copy()\n",
    "basement[basement.columns]=scaler.fit_transform(basement)\n",
    "basement.SalePrice=prices\n",
    "basement.SalePrice"
   ]
  },
  {
   "cell_type": "code",
   "execution_count": 85,
   "metadata": {},
   "outputs": [],
   "source": [
    "data=basement\n",
    "#training data is rows with none zero sales price\n",
    "training = data.loc[data.SalePrice!=0]\n",
    "test_set = data.loc[data.SalePrice==0]\n",
    "#X is training set without SalePrice\n",
    "#y is training set is SalePrice\n",
    "X = training.loc[:, training.columns !='SalePrice']\n",
    "y = np.log(training[['SalePrice']])\n",
    "X_train, X_test, y_train, y_test = train_test_split(X, y, test_size=0.2, random_state=123)"
   ]
  },
  {
   "cell_type": "code",
   "execution_count": 86,
   "metadata": {},
   "outputs": [],
   "source": [
    "scores=[0]\n",
    "for i in range(1,100):\n",
    "    neigh = KNeighborsRegressor(n_neighbors=i)\n",
    "    neigh.fit(X_train, y_train)\n",
    "    scores.extend([neigh.score(X_test, y_test)])"
   ]
  },
  {
   "cell_type": "code",
   "execution_count": 87,
   "metadata": {},
   "outputs": [
    {
     "data": {
      "text/plain": [
       "[<matplotlib.lines.Line2D at 0x1b5f33e6fd0>]"
      ]
     },
     "execution_count": 87,
     "metadata": {},
     "output_type": "execute_result"
    },
    {
     "data": {
      "image/png": "[encoded data removed]",
      "text/plain": [
       "<Figure size 432x288 with 1 Axes>"
      ]
     },
     "metadata": {},
     "output_type": "display_data"
    }
   ],
   "source": [
    "%matplotlib inline\n",
    "plt.plot(range(0,100),scores)"
   ]
  },
  {
   "cell_type": "code",
   "execution_count": 88,
   "metadata": {},
   "outputs": [
    {
     "name": "stdout",
     "output_type": "stream",
     "text": [
      "0.798885838892618\n",
      "21\n"
     ]
    }
   ],
   "source": [
    "max_value = max(scores)\n",
    "max_index = scores.index(max_value)\n",
    "print(max_value)\n",
    "print(max_index)"
   ]
  },
  {
   "cell_type": "code",
   "execution_count": 89,
   "metadata": {},
   "outputs": [
    {
     "data": {
      "text/plain": [
       "0.798885838892618"
      ]
     },
     "execution_count": 89,
     "metadata": {},
     "output_type": "execute_result"
    }
   ],
   "source": [
    "neigh = KNeighborsRegressor(n_neighbors=21)\n",
    "neigh.fit(X_train, y_train)\n",
    "neigh.score(X_test, y_test)    "
   ]
  },
  {
   "cell_type": "code",
   "execution_count": 90,
   "metadata": {},
   "outputs": [],
   "source": [
    "scores=[0]\n",
    "for i in range(1,100):\n",
    "    neigh = KNeighborsRegressor(n_neighbors=i, weights='distance')\n",
    "    neigh.fit(X_train, y_train)\n",
    "    scores.extend([neigh.score(X_test, y_test)])"
   ]
  },
  {
   "cell_type": "code",
   "execution_count": 91,
   "metadata": {},
   "outputs": [
    {
     "data": {
      "text/plain": [
       "[<matplotlib.lines.Line2D at 0x1b5f341def0>]"
      ]
     },
     "execution_count": 91,
     "metadata": {},
     "output_type": "execute_result"
    },
    {
     "data": {
      "image/png": "[encoded data removed]",
      "text/plain": [
       "<Figure size 432x288 with 1 Axes>"
      ]
     },
     "metadata": {},
     "output_type": "display_data"
    }
   ],
   "source": [
    "%matplotlib inline\n",
    "plt.plot(range(0,100),scores)"
   ]
  },
  {
   "cell_type": "code",
   "execution_count": 92,
   "metadata": {},
   "outputs": [
    {
     "name": "stdout",
     "output_type": "stream",
     "text": [
      "0.8014458078152905\n",
      "21\n"
     ]
    }
   ],
   "source": [
    "max_value = max(scores)\n",
    "max_index = scores.index(max_value)\n",
    "print(max_value)\n",
    "print(max_index)"
   ]
  },
  {
   "cell_type": "code",
   "execution_count": 131,
   "metadata": {},
   "outputs": [],
   "source": [
    "neigh = KNeighborsRegressor(n_neighbors=21, weights='distance')\n",
    "neigh.fit(X_train, y_train)\n",
    "knn_log_pred=neigh.predict(X_test).flatten()#test_set.loc[:, test_set.columns !='SalePrice']"
   ]
  },
  {
   "cell_type": "code",
   "execution_count": 132,
   "metadata": {},
   "outputs": [
    {
     "name": "stdout",
     "output_type": "stream",
     "text": [
      "The train set R^2 is: 1.00000\n",
      "The test set R^2 is is: 0.80145\n"
     ]
    }
   ],
   "source": [
    "print(\"The train set R^2 is: %.5f\" % neigh.score(X_train, y_train))\n",
    "print(\"The test set R^2 is is: %.5f\" % neigh.score(X_test, y_test))"
   ]
  },
  {
   "cell_type": "code",
   "execution_count": 133,
   "metadata": {},
   "outputs": [
    {
     "name": "stdout",
     "output_type": "stream",
     "text": [
      "Mean Absolute Error (MAE): $ 22099.36\n",
      "Mean Squared Error (MSE): 0.03147856989151839\n",
      "Root Mean Square Error (RMSE): 0.1774220107301188\n",
      "Mean Absolute Percent Error (MAPE): 12.65 %.\n"
     ]
    }
   ],
   "source": [
    "# Calculate the absolute errors\n",
    "errors = abs(np.expm1(knn_log_pred) - np.expm1(y_test).SalePrice)\n",
    "\n",
    "# Print out MAE, MSE, and RMSE\n",
    "print('Mean Absolute Error (MAE): $', round(np.mean(errors), 2))\n",
    "print('Mean Squared Error (MSE):', mean_squared_error(y_test, knn_log_pred))\n",
    "print('Root Mean Square Error (RMSE):', np.sqrt(mean_squared_error(y_test, knn_log_pred)))\n",
    "\n",
    "# Calculate mean absolute percentage error (MAPE)\n",
    "mape = 100 * (errors / np.expm1(y_test).SalePrice)\n",
    "print('Mean Absolute Percent Error (MAPE):', round(np.mean(mape), 2), '%.')"
   ]
  },
  {
   "cell_type": "code",
   "execution_count": 99,
   "metadata": {},
   "outputs": [],
   "source": [
    "#test_set.loc[:, test_set.columns !='SalePrice'].isna().any()\n",
    "\n",
    "#kfold for cross validation\n",
    "kf = KFold(n_splits = 5, shuffle = True, random_state = 28)\n"
   ]
  },
  {
   "cell_type": "code",
   "execution_count": 102,
   "metadata": {},
   "outputs": [
    {
     "name": "stdout",
     "output_type": "stream",
     "text": [
      "[14:32:37] WARNING: src/objective/regression_obj.cu:152: reg:linear is now deprecated in favor of reg:squarederror.\n",
      "Wall time: 24.6 s\n"
     ]
    },
    {
     "data": {
      "text/plain": [
       "RandomizedSearchCV(cv=KFold(n_splits=5, random_state=28, shuffle=True),\n",
       "                   error_score=nan,\n",
       "                   estimator=XGBRegressor(base_score=0.5, booster='gbtree',\n",
       "                                          colsample_bylevel=1,\n",
       "                                          colsample_bynode=1,\n",
       "                                          colsample_bytree=1, gamma=0,\n",
       "                                          importance_type='gain',\n",
       "                                          learning_rate=0.1, max_delta_step=0,\n",
       "                                          max_depth=3, min_child_weight=1,\n",
       "                                          missing=None, n_estimators=100,\n",
       "                                          n_jobs=1, nthread=None,\n",
       "                                          obj...\n",
       "                                          reg_lambda=1, scale_pos_weight=1,\n",
       "                                          seed=None, silent=None, subsample=1,\n",
       "                                          verbosity=1),\n",
       "                   iid='deprecated', n_iter=10, n_jobs=-1,\n",
       "                   param_distributions={'learning_rate': [0.01, 0.05, 0.1],\n",
       "                                        'max_depth': [2, 3, 4, 5, 6],\n",
       "                                        'min_child_weight': [4, 5, 6],\n",
       "                                        'n_estimators': [400, 450, 500, 550,\n",
       "                                                         600]},\n",
       "                   pre_dispatch='2*n_jobs', random_state=None, refit=True,\n",
       "                   return_train_score=True, scoring='neg_mean_squared_error',\n",
       "                   verbose=0)"
      ]
     },
     "execution_count": 102,
     "metadata": {},
     "output_type": "execute_result"
    }
   ],
   "source": [
    "from sklearn.model_selection import GridSearchCV, RandomizedSearchCV\n",
    "from sklearn.model_selection import KFold, cross_val_score, StratifiedKFold \n",
    "from xgboost import XGBRegressor\n",
    "\n",
    "#set up xgb with random parameter\n",
    "xgb = XGBRegressor()\n",
    "xgb.set_params(random_state=123)\n",
    "\n",
    "\n",
    "#parameter tuning using randomsearch\n",
    "xgb_param_grid ={'learning_rate': [0.01, 0.05, 0.1],\n",
    "                 'max_depth': [2, 3, 4, 5, 6],\n",
    "                 'min_child_weight': [4, 5, 6],\n",
    "                 'n_estimators': [400, 450, 500, 550, 600]}\n",
    "\n",
    "random_search_xgb = RandomizedSearchCV(xgb, xgb_param_grid, scoring='neg_mean_squared_error', \n",
    "                                     cv= kf, n_jobs=-1, return_train_score = True)\n",
    "\n",
    "%time random_search_xgb.fit(X_train, y_train)"
   ]
  },
  {
   "cell_type": "code",
   "execution_count": 103,
   "metadata": {},
   "outputs": [
    {
     "data": {
      "text/plain": [
       "{'n_estimators': 550,\n",
       " 'min_child_weight': 4,\n",
       " 'max_depth': 3,\n",
       " 'learning_rate': 0.05}"
      ]
     },
     "execution_count": 103,
     "metadata": {},
     "output_type": "execute_result"
    }
   ],
   "source": [
    "#get best best parameters from random search\n",
    "random_search_xgb.best_params_"
   ]
  },
  {
   "cell_type": "code",
   "execution_count": 104,
   "metadata": {},
   "outputs": [
    {
     "name": "stdout",
     "output_type": "stream",
     "text": [
      "The train set R^2 is: 0.97877\n",
      "The test set R^2 is is: 0.91720\n"
     ]
    }
   ],
   "source": [
    "random_xgb = random_search_xgb.best_estimator_\n",
    "\n",
    "print(\"The train set R^2 is: %.5f\" % random_xgb.score(X_train, y_train))\n",
    "print(\"The test set R^2 is is: %.5f\" % random_xgb.score(X_test, y_test))"
   ]
  },
  {
   "cell_type": "code",
   "execution_count": 107,
   "metadata": {},
   "outputs": [
    {
     "name": "stdout",
     "output_type": "stream",
     "text": [
      "Mean Absolute Error (MAE): $ 14318.52\n",
      "Mean Squared Error (MSE): 0.013127634684291576\n",
      "Root Mean Square Error (RMSE): 0.11457589050184849\n",
      "Mean Absolute Percent Error (MAPE): 8.39 %.\n"
     ]
    }
   ],
   "source": [
    "#Prediction with tuned hyperparameters\n",
    "random_xgb_pred = random_xgb.predict(X_test)\n",
    "\n",
    "# Calculate the absolute errors\n",
    "errors = abs(np.expm1(random_xgb_pred) - np.expm1(y_test).SalePrice)\n",
    "\n",
    "# Print out MAE, MSE, and RMSE\n",
    "print('Mean Absolute Error (MAE): $', round(np.mean(errors), 2))\n",
    "print('Mean Squared Error (MSE):', mean_squared_error(y_test, random_xgb_pred))\n",
    "print('Root Mean Square Error (RMSE):', np.sqrt(mean_squared_error(y_test, random_xgb_pred)))\n",
    "\n",
    "# Calculate mean absolute percentage error (MAPE)\n",
    "mape = 100 * (errors / np.expm1(y_test).SalePrice)\n",
    "print('Mean Absolute Percent Error (MAPE):', round(np.mean(mape), 2), '%.')"
   ]
  },
  {
   "cell_type": "code",
   "execution_count": 108,
   "metadata": {},
   "outputs": [
    {
     "name": "stderr",
     "output_type": "stream",
     "text": [
      "C:\\Users\\fezro\\AppData\\Roaming\\Python\\Python36\\site-packages\\sklearn\\model_selection\\_search.py:281: UserWarning: The total space of parameters 1 is smaller than n_iter=10. Running 1 iterations. For exhaustive searches, use GridSearchCV.\n",
      "  % (grid_size, self.n_iter, grid_size), UserWarning)\n"
     ]
    },
    {
     "name": "stdout",
     "output_type": "stream",
     "text": [
      "[14:37:52] WARNING: src/objective/regression_obj.cu:152: reg:linear is now deprecated in favor of reg:squarederror.\n",
      "Wall time: 21.2 s\n"
     ]
    },
    {
     "data": {
      "text/plain": [
       "RandomizedSearchCV(cv=None, error_score=nan,\n",
       "                   estimator=XGBRegressor(base_score=0.5, booster='gbtree',\n",
       "                                          colsample_bylevel=1,\n",
       "                                          colsample_bynode=1,\n",
       "                                          colsample_bytree=1, gamma=0,\n",
       "                                          importance_type='gain',\n",
       "                                          learning_rate=0.1, max_delta_step=0,\n",
       "                                          max_depth=3, min_child_weight=1,\n",
       "                                          missing=None, n_estimators=100,\n",
       "                                          n_jobs=1, nthread=None,\n",
       "                                          objective='reg:linear',\n",
       "                                          random_state=123, reg_a...\n",
       "                   param_distributions={'colsample_bytree': [0.7],\n",
       "                                        'learning_rate': [0.01],\n",
       "                                        'max_depth': [3],\n",
       "                                        'min_child_weight': [0],\n",
       "                                        'n_estimators': [3460], 'nthread': [-1],\n",
       "                                        'objective': ['reg:linear'],\n",
       "                                        'reg_alpha': [6e-05],\n",
       "                                        'scale_pos_weight': [1], 'seed': [27],\n",
       "                                        'subsample': [0.7]},\n",
       "                   pre_dispatch='2*n_jobs', random_state=None, refit=True,\n",
       "                   return_train_score=True, scoring='neg_mean_squared_error',\n",
       "                   verbose=0)"
      ]
     },
     "execution_count": 108,
     "metadata": {},
     "output_type": "execute_result"
    }
   ],
   "source": [
    "#further fine tuning parameters\n",
    "\n",
    "xgb_param_grid1 ={'learning_rate': [0.01],\n",
    "                 'max_depth': [3],\n",
    "                 'min_child_weight': [0],\n",
    "                 'n_estimators': [3460],\n",
    "                 'subsample': [0.7],\n",
    "                 'colsample_bytree' : [0.7],\n",
    "                 'objective':['reg:linear'],\n",
    "                 'nthread':[-1],\n",
    "                 'scale_pos_weight':[1],\n",
    "                 'seed':[27],\n",
    "                 'reg_alpha': [0.00006]}\n",
    "\n",
    "random_search_xgb1 = RandomizedSearchCV(xgb, xgb_param_grid1, scoring='neg_mean_squared_error', \n",
    "                                     n_jobs=-1, return_train_score = True)\n",
    "\n",
    "%time random_search_xgb1.fit(X_train, y_train)                 \n"
   ]
  },
  {
   "cell_type": "code",
   "execution_count": 109,
   "metadata": {},
   "outputs": [
    {
     "data": {
      "text/plain": [
       "{'subsample': 0.7,\n",
       " 'seed': 27,\n",
       " 'scale_pos_weight': 1,\n",
       " 'reg_alpha': 6e-05,\n",
       " 'objective': 'reg:linear',\n",
       " 'nthread': -1,\n",
       " 'n_estimators': 3460,\n",
       " 'min_child_weight': 0,\n",
       " 'max_depth': 3,\n",
       " 'learning_rate': 0.01,\n",
       " 'colsample_bytree': 0.7}"
      ]
     },
     "execution_count": 109,
     "metadata": {},
     "output_type": "execute_result"
    }
   ],
   "source": [
    "random_search_xgb1.best_params_"
   ]
  },
  {
   "cell_type": "code",
   "execution_count": 111,
   "metadata": {},
   "outputs": [
    {
     "name": "stdout",
     "output_type": "stream",
     "text": [
      "The train set R^2 is: 0.98718\n",
      "The test set R^2 is is: 0.91660\n"
     ]
    }
   ],
   "source": [
    "random_xgb1 = random_search_xgb1.best_estimator_\n",
    "\n",
    "print(\"The train set R^2 is: %.5f\" % random_xgb1.score(X_train, y_train))\n",
    "print(\"The test set R^2 is is: %.5f\" % random_xgb1.score(X_test, y_test))"
   ]
  },
  {
   "cell_type": "code",
   "execution_count": 112,
   "metadata": {},
   "outputs": [
    {
     "name": "stdout",
     "output_type": "stream",
     "text": [
      "Mean Absolute Error (MAE): $ 81021.25\n",
      "Mean Squared Error (MSE): 0.002050014148085163\n",
      "Root Mean Square Error (RMSE): 0.04527708192988107\n",
      "Mean Absolute Percent Error (MAPE): 49.29 %.\n"
     ]
    }
   ],
   "source": [
    "# Train Data\n",
    "random_xgb_pred1 = random_xgb1.predict(X_train)\n",
    "\n",
    "# Calculate the absolute errors\n",
    "errors = abs(np.expm1(random_xgb_pred1) - np.expm1(y_train).values)\n",
    "\n",
    "# Print out MAE, MSE, and RMSE\n",
    "print('Mean Absolute Error (MAE): $', round(np.mean(errors), 2))\n",
    "print('Mean Squared Error (MSE):', mean_squared_error(y_train, random_xgb_pred1))\n",
    "print('Root Mean Square Error (RMSE):', np.sqrt(mean_squared_error(y_train, random_xgb_pred1)))\n",
    "\n",
    "# Calculate mean absolute percentage error (MAPE)\n",
    "mape = 100 * (errors / np.expm1(y_train).values)\n",
    "print('Mean Absolute Percent Error (MAPE):', round(np.mean(mape), 2), '%.')"
   ]
  },
  {
   "cell_type": "code",
   "execution_count": 137,
   "metadata": {},
   "outputs": [
    {
     "data": {
      "text/plain": [
       "{'Street': 0.007925379421333334,\n",
       " '3SsnPorch': 0.01752731552102941,\n",
       " 'Condition2': 0.017540198335961536,\n",
       " 'HouseStyle': 0.017869506670186885,\n",
       " 'MiscVal': 0.019057444983243247,\n",
       " 'BsmtHalfBath': 0.01955033013722222,\n",
       " 'LandContour': 0.021097175432825164,\n",
       " 'MiscFeature': 0.021477264589166666,\n",
       " 'MasVnrArea': 0.022085337070731275,\n",
       " 'LotFrontage': 0.022870320491186404,\n",
       " 'MasVnrType': 0.022988743125300012,\n",
       " 'BedroomAbvGr': 0.023408461586257673,\n",
       " 'LotConfig': 0.023542826542491267,\n",
       " 'LotShape': 0.02355753147847418,\n",
       " 'Exterior2nd': 0.0236180993334734,\n",
       " 'Electrical': 0.024336225948793106,\n",
       " 'MoSold': 0.025239875190503643,\n",
       " 'LowQualFinSF': 0.025287282037529408,\n",
       " 'Alley': 0.025841193709333347,\n",
       " 'RoofMatl': 0.025916236094,\n",
       " 'Fence': 0.026882345253363648,\n",
       " 'BsmtFinSF2': 0.027177698082644638,\n",
       " 'BsmtUnfSF': 0.027823653343819702,\n",
       " 'Heating': 0.028148324369,\n",
       " 'BsmtFinType1': 0.0312843479546175,\n",
       " 'Exterior1st': 0.0313151431912556,\n",
       " 'BsmtFinType2': 0.03423350011015574,\n",
       " 'LandSlope': 0.03464225958214424,\n",
       " 'Foundation': 0.03518230816136207,\n",
       " 'EnclosedPorch': 0.03546998997156647,\n",
       " 'RoofStyle': 0.03612507227688074,\n",
       " 'PavedDrive': 0.036973527097142855,\n",
       " 'BldgType': 0.03940480129851219,\n",
       " 'OpenPorchSF': 0.041775978876339326,\n",
       " 'HeatingQC': 0.04214422989390705,\n",
       " 'GarageYrBlt': 0.04247487724860199,\n",
       " 'Condition1': 0.04264971314821136,\n",
       " 'TotRmsAbvGrd': 0.043948133965374364,\n",
       " 'YearBuilt': 0.04522433330637596,\n",
       " 'Fireplaces': 0.04728436130584159,\n",
       " 'HalfBath': 0.049252702898225795,\n",
       " 'WoodDeckSF': 0.04940609306634691,\n",
       " 'SaleType': 0.051950858261050746,\n",
       " '2ndFlrSF': 0.05239885286301618,\n",
       " 'ScreenPorch': 0.05756028440921128,\n",
       " 'LotArea': 0.05787234163386297,\n",
       " 'Functional': 0.0618515311734962,\n",
       " 'ExterCond': 0.06400117789955798,\n",
       " 'PoolArea': 0.06401417353010991,\n",
       " '1stFlrSF': 0.07091300818725689,\n",
       " 'SaleCondition': 0.0741736003982323,\n",
       " 'BsmtCond': 0.07952326724039217,\n",
       " 'KitchenAbvGr': 0.081510249562,\n",
       " 'FullBath': 0.0868874012643413,\n",
       " 'YearRemodAdd': 0.09901855497261422,\n",
       " 'BsmtFullBath': 0.10148727493587062,\n",
       " 'BsmtExposure': 0.10877734122352316,\n",
       " 'GarageArea': 0.1130508229375654,\n",
       " 'MSSubClass': 0.12076455892030323,\n",
       " 'MSZoning': 0.1218521242974877,\n",
       " 'GarageCond': 0.1583043627092105,\n",
       " 'BsmtFinSF1': 0.1648444148847734,\n",
       " 'OverallCond': 0.1789259705495422,\n",
       " 'BsmtQual': 0.29803145097322925,\n",
       " 'GarageQual': 0.30565991695925365,\n",
       " 'TotalBsmtSF': 0.3718954519877852,\n",
       " 'Neighborhood': 0.4401232038471227,\n",
       " 'KitchenQual': 0.47014089440113727,\n",
       " 'GarageCars': 0.5052457281720132,\n",
       " 'ExterQual': 0.5330352426088537,\n",
       " 'GrLivArea': 0.5708456758693667,\n",
       " 'GarageFinish': 0.5728951609228429,\n",
       " 'OverallQual': 0.6777295224740306,\n",
       " 'FireplaceQu': 0.6927657270748435,\n",
       " 'CentralAir': 0.7139597284521952,\n",
       " 'GarageType': 0.7821850922375336}"
      ]
     },
     "execution_count": 137,
     "metadata": {},
     "output_type": "execute_result"
    }
   ],
   "source": [
    "features=random_xgb1.get_booster().get_score(importance_type=\"gain\")\n",
    "{k: v for k, v in sorted(features.items(), key=lambda item: item[1])}"
   ]
  },
  {
   "cell_type": "code",
   "execution_count": null,
   "metadata": {},
   "outputs": [],
   "source": []
  }
 ],
 "metadata": {
  "kernelspec": {
   "display_name": "Python 3",
   "language": "python",
   "name": "python3"
  },
  "language_info": {
   "codemirror_mode": {
    "name": "ipython",
    "version": 3
   },
   "file_extension": ".py",
   "mimetype": "text/x-python",
   "name": "python",
   "nbconvert_exporter": "python",
   "pygments_lexer": "ipython3",
   "version": "3.6.5"
  }
 },
 "nbformat": 4,
 "nbformat_minor": 2
}
