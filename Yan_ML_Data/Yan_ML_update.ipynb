{
 "cells": [
  {
   "cell_type": "code",
   "execution_count": 1,
   "metadata": {},
   "outputs": [],
   "source": [
    "import numpy as np\n",
    "import pandas as pd\n",
    "from sklearn.linear_model import Ridge, Lasso, ElasticNet, LinearRegression\n",
    "from scipy.special import boxcox1p\n",
    "from scipy.stats import boxcox_normmax\n",
    "from scipy import stats\n",
    "import statistics\n",
    "import warnings\n",
    "warnings.filterwarnings('ignore')\n",
    "%matplotlib inline\n",
    "import matplotlib.pyplot as plt\n",
    "from sklearn.metrics import r2_score, mean_squared_error, mean_squared_error, make_scorer\n",
    "import seaborn as sns\n",
    "\n",
    "import os\n",
    "from scipy.stats import skew, probplot, norm\n",
    "import sklearn.model_selection as ms\n",
    "from sklearn.ensemble import RandomForestRegressor\n",
    "from pprint import pprint\n",
    "from sklearn.ensemble import GradientBoostingRegressor\n",
    "from sklearn.svm import SVR\n",
    "from sklearn.preprocessing import StandardScaler\n",
    "from sklearn.linear_model import ElasticNetCV, LassoCV, Lasso, ElasticNet \n",
    "from sklearn.model_selection import GridSearchCV\n",
    "from sklearn.pipeline import make_pipeline\n",
    "from sklearn.preprocessing import RobustScaler\n",
    "from sklearn.model_selection import KFold, cross_val_score, StratifiedKFold \n",
    "from sklearn.model_selection import train_test_split\n",
    "from sklearn import linear_model\n",
    "# from xgboost import XGBRegressor\n",
    "# from lightgbm import LGBMRegressor"
   ]
  },
  {
   "cell_type": "code",
   "execution_count": 2,
   "metadata": {},
   "outputs": [],
   "source": [
    "train = pd.read_csv('/Users/Muyan/Desktop/ML_Project/train.csv')\n",
    "test = pd.read_csv('/Users/Muyan/Desktop/ML_Project/test.csv')"
   ]
  },
  {
   "cell_type": "code",
   "execution_count": 3,
   "metadata": {},
   "outputs": [
    {
     "name": "stdout",
     "output_type": "stream",
     "text": [
      "(1460, 81)\n",
      "(1459, 80)\n"
     ]
    }
   ],
   "source": [
    "print(train.shape)\n",
    "print(test.shape)"
   ]
  },
  {
   "cell_type": "code",
   "execution_count": 4,
   "metadata": {},
   "outputs": [
    {
     "name": "stdout",
     "output_type": "stream",
     "text": [
      "Index(['Id', 'MSSubClass', 'MSZoning', 'LotFrontage', 'LotArea', 'Street',\n",
      "       'Alley', 'LotShape', 'LandContour', 'Utilities', 'LotConfig',\n",
      "       'LandSlope', 'Neighborhood', 'Condition1', 'Condition2', 'BldgType',\n",
      "       'HouseStyle', 'OverallQual', 'OverallCond', 'YearBuilt', 'YearRemodAdd',\n",
      "       'RoofStyle', 'RoofMatl', 'Exterior1st', 'Exterior2nd', 'MasVnrType',\n",
      "       'MasVnrArea', 'ExterQual', 'ExterCond', 'Foundation', 'BsmtQual',\n",
      "       'BsmtCond', 'BsmtExposure', 'BsmtFinType1', 'BsmtFinSF1',\n",
      "       'BsmtFinType2', 'BsmtFinSF2', 'BsmtUnfSF', 'TotalBsmtSF', 'Heating',\n",
      "       'HeatingQC', 'CentralAir', 'Electrical', '1stFlrSF', '2ndFlrSF',\n",
      "       'LowQualFinSF', 'GrLivArea', 'BsmtFullBath', 'BsmtHalfBath', 'FullBath',\n",
      "       'HalfBath', 'BedroomAbvGr', 'KitchenAbvGr', 'KitchenQual',\n",
      "       'TotRmsAbvGrd', 'Functional', 'Fireplaces', 'FireplaceQu', 'GarageType',\n",
      "       'GarageYrBlt', 'GarageFinish', 'GarageCars', 'GarageArea', 'GarageQual',\n",
      "       'GarageCond', 'PavedDrive', 'WoodDeckSF', 'OpenPorchSF',\n",
      "       'EnclosedPorch', '3SsnPorch', 'ScreenPorch', 'PoolArea', 'PoolQC',\n",
      "       'Fence', 'MiscFeature', 'MiscVal', 'MoSold', 'YrSold', 'SaleType',\n",
      "       'SaleCondition', 'SalePrice'],\n",
      "      dtype='object')\n"
     ]
    }
   ],
   "source": [
    "print(train.columns)"
   ]
  },
  {
   "cell_type": "code",
   "execution_count": 5,
   "metadata": {},
   "outputs": [
    {
     "data": {
      "text/plain": [
       "count      1460.000000\n",
       "mean     180921.195890\n",
       "std       79442.502883\n",
       "min       34900.000000\n",
       "25%      129975.000000\n",
       "50%      163000.000000\n",
       "75%      214000.000000\n",
       "max      755000.000000\n",
       "Name: SalePrice, dtype: float64"
      ]
     },
     "execution_count": 5,
     "metadata": {},
     "output_type": "execute_result"
    }
   ],
   "source": [
    "train['SalePrice'].describe()"
   ]
  },
  {
   "cell_type": "code",
   "execution_count": 6,
   "metadata": {},
   "outputs": [],
   "source": [
    "pd.set_option('display.max_columns', 80)\n",
    "pd.set_option('display.max_rows', 100)\n",
    "plt.rcParams['figure.figsize']= [8.0, 4.0]"
   ]
  },
  {
   "cell_type": "code",
   "execution_count": 7,
   "metadata": {},
   "outputs": [
    {
     "name": "stdout",
     "output_type": "stream",
     "text": [
      "categorical features:\n",
      "['Alley', 'BldgType', 'BsmtCond', 'BsmtExposure', 'BsmtFinType1', 'BsmtFinType2', 'BsmtQual', 'CentralAir', 'Condition1', 'Condition2', 'Electrical', 'ExterCond', 'ExterQual', 'Exterior1st', 'Exterior2nd', 'Fence', 'FireplaceQu', 'Foundation', 'Functional', 'GarageCond', 'GarageFinish', 'GarageQual', 'GarageType', 'Heating', 'HeatingQC', 'HouseStyle', 'KitchenQual', 'LandContour', 'LandSlope', 'LotConfig', 'LotShape', 'MSZoning', 'MasVnrType', 'MiscFeature', 'Neighborhood', 'PavedDrive', 'PoolQC', 'RoofMatl', 'RoofStyle', 'SaleCondition', 'SaleType', 'Street', 'Utilities']\n",
      "43\n",
      "\n",
      "numerical features:\n",
      "['1stFlrSF', '2ndFlrSF', '3SsnPorch', 'BedroomAbvGr', 'BsmtFinSF1', 'BsmtFinSF2', 'BsmtFullBath', 'BsmtHalfBath', 'BsmtUnfSF', 'EnclosedPorch', 'Fireplaces', 'FullBath', 'GarageArea', 'GarageCars', 'GarageYrBlt', 'GrLivArea', 'HalfBath', 'Id', 'KitchenAbvGr', 'LotArea', 'LotFrontage', 'LowQualFinSF', 'MSSubClass', 'MasVnrArea', 'MiscVal', 'MoSold', 'OpenPorchSF', 'OverallCond', 'OverallQual', 'PoolArea', 'ScreenPorch', 'TotRmsAbvGrd', 'TotalBsmtSF', 'WoodDeckSF', 'YearBuilt', 'YearRemodAdd', 'YrSold']\n",
      "37\n"
     ]
    }
   ],
   "source": [
    "# categorical features\n",
    "categorical_feat1 = train.columns[train.dtypes=='object'].tolist()\n",
    "\n",
    "# numerical features\n",
    "numeric_feat1 = train.columns[(train.dtypes=='int64')|(train.dtypes=='float64')].drop('SalePrice').tolist()\n",
    "\n",
    "print('categorical features:\\n{}\\n{}'.format(sorted(categorical_feat1), len(categorical_feat1)))\n",
    "print('\\nnumerical features:\\n{}\\n{}'.format(sorted(numeric_feat1), len(numeric_feat1)))"
   ]
  },
  {
   "cell_type": "code",
   "execution_count": 8,
   "metadata": {},
   "outputs": [],
   "source": [
    "def check_missingness(df):\n",
    "    missing_features = df.columns[df.isna().any()]\n",
    "\n",
    "    # how bad is the missing ?\n",
    "    missing = {}\n",
    "    for i in missing_features:\n",
    "        missing[i]= df[i].isna().sum()\n",
    "    missing = pd.Series(missing).sort_values(ascending=False)\n",
    "    return missing"
   ]
  },
  {
   "cell_type": "code",
   "execution_count": 9,
   "metadata": {},
   "outputs": [
    {
     "data": {
      "image/png": "[encoded data removed]",
      "text/plain": [
       "<Figure size 576x288 with 1 Axes>"
      ]
     },
     "metadata": {
      "needs_background": "light"
     },
     "output_type": "display_data"
    }
   ],
   "source": [
    "check_missingness(train)[:20].plot(kind='bar')\n",
    "plt.title('Missing Features in Train Set')\n",
    "plt.savefig('train_missing.png',bbox_inches='tight')"
   ]
  },
  {
   "cell_type": "code",
   "execution_count": 10,
   "metadata": {},
   "outputs": [
    {
     "data": {
      "image/png": "[encoded data removed]",
      "text/plain": [
       "<Figure size 576x288 with 1 Axes>"
      ]
     },
     "metadata": {
      "needs_background": "light"
     },
     "output_type": "display_data"
    }
   ],
   "source": [
    "check_missingness(test)[:20].plot(kind='bar')\n",
    "plt.title('Missing Features in Test Set')\n",
    "\n",
    "plt.savefig('test_missing.png',bbox_inches='tight')"
   ]
  },
  {
   "cell_type": "code",
   "execution_count": 11,
   "metadata": {},
   "outputs": [
    {
     "data": {
      "image/png": "[encoded data removed]",
      "text/plain": [
       "<Figure size 360x360 with 1 Axes>"
      ]
     },
     "metadata": {
      "needs_background": "light"
     },
     "output_type": "display_data"
    }
   ],
   "source": [
    "sns.lmplot(x='GrLivArea', y= 'SalePrice', data=train)\n",
    "plt.savefig('saleprice_grlivarea.png',bbox_inches='tight')"
   ]
  },
  {
   "cell_type": "code",
   "execution_count": 12,
   "metadata": {},
   "outputs": [
    {
     "data": {
      "text/plain": [
       "(-0.5, 9.5, 0, 800000)"
      ]
     },
     "execution_count": 12,
     "metadata": {},
     "output_type": "execute_result"
    },
    {
     "data": {
      "image/png": "[encoded data removed]",
      "text/plain": [
       "<Figure size 576x288 with 1 Axes>"
      ]
     },
     "metadata": {
      "needs_background": "light"
     },
     "output_type": "display_data"
    }
   ],
   "source": [
    "sns.boxplot(train.OverallQual, train.SalePrice)\n",
    "plt.axis(ymin=0, ymax=800000)"
   ]
  },
  {
   "cell_type": "code",
   "execution_count": 13,
   "metadata": {},
   "outputs": [
    {
     "data": {
      "image/png": "[encoded data removed]",
      "text/plain": [
       "<Figure size 576x288 with 1 Axes>"
      ]
     },
     "metadata": {
      "needs_background": "light"
     },
     "output_type": "display_data"
    }
   ],
   "source": [
    "train.SalePrice.hist(bins=50)\n",
    "plt.savefig('saleprice.png',bbox_inches='tight')"
   ]
  },
  {
   "cell_type": "code",
   "execution_count": 14,
   "metadata": {},
   "outputs": [],
   "source": [
    "# Correlation"
   ]
  },
  {
   "cell_type": "code",
   "execution_count": 15,
   "metadata": {},
   "outputs": [
    {
     "data": {
      "text/plain": [
       "<matplotlib.axes._subplots.AxesSubplot at 0x1a1a1640b8>"
      ]
     },
     "execution_count": 15,
     "metadata": {},
     "output_type": "execute_result"
    },
    {
     "data": {
      "image/png": "[encoded data removed]",
      "text/plain": [
       "<Figure size 1080x864 with 2 Axes>"
      ]
     },
     "metadata": {
      "needs_background": "light"
     },
     "output_type": "display_data"
    }
   ],
   "source": [
    "corrmat = train.corr()\n",
    "f, ax = plt.subplots(figsize=(15, 12))\n",
    "sns.heatmap(corrmat,linewidths=.5,vmin=0, vmax=1, square=True)"
   ]
  },
  {
   "cell_type": "code",
   "execution_count": 16,
   "metadata": {},
   "outputs": [
    {
     "data": {
      "image/png": "[encoded data removed]",
      "text/plain": [
       "<Figure size 720x720 with 2 Axes>"
      ]
     },
     "metadata": {
      "needs_background": "light"
     },
     "output_type": "display_data"
    }
   ],
   "source": [
    "plt.figure(figsize=(10,10))\n",
    "cols = corrmat.nlargest(11, 'SalePrice')['SalePrice'].index\n",
    "cm = np.corrcoef(train[cols].values.T)\n",
    "sns.set(font_scale=1.25)\n",
    "hm = sns.heatmap(cm, cbar=True, annot=True, square=True, fmt='.2f', annot_kws={'size': 10}, yticklabels=cols.values, xticklabels=cols.values)\n",
    "\n",
    "plt.show()"
   ]
  },
  {
   "cell_type": "code",
   "execution_count": 17,
   "metadata": {},
   "outputs": [],
   "source": [
    "# sns.set()\n",
    "# cols = ['SalePrice', 'OverallQual', 'GrLivArea', 'GarageCars', 'TotalBsmtSF', 'FullBath', 'YearBuilt']\n",
    "# sns.pairplot(train[cols], height = 2.5)\n",
    "# plt.show()"
   ]
  },
  {
   "cell_type": "code",
   "execution_count": 18,
   "metadata": {},
   "outputs": [],
   "source": [
    "# Data Processing"
   ]
  },
  {
   "cell_type": "code",
   "execution_count": 19,
   "metadata": {},
   "outputs": [],
   "source": [
    "def process_missing(df):\n",
    "   \n",
    "    # fill LotFrontage missings with median value in the same neighborhood\n",
    "    df['LotFrontage'] = df[['Neighborhood','LotFrontage']].groupby('Neighborhood').transform(lambda x: x.fillna(x.median()))\n",
    "\n",
    "    # impute MSZoning missings as the most frequent value in the same MSSubClass\n",
    "    df['MSZoning'] = df[['MSSubClass', 'MSZoning']].groupby('MSSubClass').transform(lambda x: x.fillna(x.mode()[0]))\n",
    "\n",
    "    df['Utilities'] =df['Utilities'].fillna(df['Utilities'].mode()[0])\n",
    "\n",
    "    df['Exterior1st'] = df['Exterior1st'].fillna('Wd Sdng')\n",
    "    df['Exterior2nd'] = df['Exterior2nd'].fillna('Wd Sdng')\n",
    "\n",
    "    df['Electrical']=df.groupby('Neighborhood')['Electrical'].transform(lambda x: x.fillna(x.mode()[0]))\n",
    "\n",
    "    df['Functional'] = df['Functional'].fillna(df['Functional'].mode()[0])\n",
    "    df['KitchenQual'] = df.groupby('Neighborhood')['KitchenQual'].transform(lambda x: x.mode()[0])\n",
    "    df['SaleType'] = df['SaleType'].fillna(df['SaleType'].mode()[0])\n",
    "    \n",
    "    df[numeric_feat1] = df[numeric_feat1].fillna(0)\n",
    "    df[categorical_feat1] = df[categorical_feat1].fillna('None')\n",
    "\n",
    "    #print(df.head())\n",
    "    return df"
   ]
  },
  {
   "cell_type": "code",
   "execution_count": 20,
   "metadata": {},
   "outputs": [],
   "source": [
    "all_data = pd.concat([train.copy().drop(columns=['SalePrice']), test.copy()], axis=0)"
   ]
  },
  {
   "cell_type": "code",
   "execution_count": 21,
   "metadata": {},
   "outputs": [],
   "source": [
    "all_data = process_missing(all_data)"
   ]
  },
  {
   "cell_type": "code",
   "execution_count": 22,
   "metadata": {},
   "outputs": [
    {
     "data": {
      "text/plain": [
       "0"
      ]
     },
     "execution_count": 22,
     "metadata": {},
     "output_type": "execute_result"
    }
   ],
   "source": [
    "all_data.isnull().any().sum()"
   ]
  },
  {
   "cell_type": "code",
   "execution_count": 23,
   "metadata": {},
   "outputs": [],
   "source": [
    "# Feature Engineering"
   ]
  },
  {
   "cell_type": "code",
   "execution_count": 24,
   "metadata": {},
   "outputs": [],
   "source": [
    "def Feat_engineering1(data):\n",
    "    df = data.copy()\n",
    "    # drop 'Id', 'Street', 'Utilities','PoolQC'\n",
    "    to_remove=set(['Id', 'Street', 'Utilities','PoolQC', 'PoolArea', 'HalfBath', 'BsmtHalfBath', 'FullBath', 'BsmtFullBath',\\\n",
    "                 'OpenPorchSF', 'EnclosedPorch', '3SsnPorch', 'ScreenPorch', 'WoodDeckSF','TotalBsmtSF', '1stFlrSF',\\\n",
    "                  '2ndFlrSF', 'BsmtFinSF1', 'BsmtFinSF2', '1stFlrSF', '2ndFlrSF', 'YearBuilt', 'YearRemodAdd'])\n",
    "    # convert PoolArea to binary\n",
    "    df['HasPool'] = df['PoolArea'].apply(lambda x: 'Yes' if x>0 else 'No')\n",
    "\n",
    "    # convert to categorical\n",
    "    df[['KitchenAbvGr', 'TotRmsAbvGrd', 'BedroomAbvGr', 'GarageCars']] = df[['KitchenAbvGr', 'TotRmsAbvGrd', 'BedroomAbvGr', 'GarageCars']].astype(str)\n",
    "\n",
    "    # combine features of 'HalfBath', 'BsmtHalfBath', 'FullBath', 'BsmtFullBath'\n",
    "    df['TotalBath'] = df['HalfBath']/2 + df['BsmtHalfBath']/2 + df['FullBath'] + df['BsmtFullBath']\n",
    "    df['TotalBath'] = df['TotalBath'].astype('str')\n",
    "\n",
    "    # combine features of 'OpenPorchSF', 'EnclosedPorch', 'X3SsnPorch', 'ScreenPorch', 'WoodDeckSF'\n",
    "    df['Total_PorchSF'] = df['OpenPorchSF'] + df['EnclosedPorch'] + df['3SsnPorch'] + df['ScreenPorch'] + df['WoodDeckSF']\n",
    "\n",
    "    # combine features of TotalSF = TotalBsmtSF + X1stFlrSF + X2ndFlrSF\n",
    "    df['TotalSF'] = df['TotalBsmtSF'] + df['1stFlrSF'] + df['2ndFlrSF']\n",
    "\n",
    "    # combine features of 'BsmtFinSF1', 'BsmtFinSF2', 'X1stFlrSF', 'X2ndFlrSF'\n",
    "    df['TotalFinSF'] = df['BsmtFinSF1'] + df['BsmtFinSF2'] + df['1stFlrSF'] + df['2ndFlrSF']\n",
    "\n",
    "    # combine 'YearBuilt', 'YearRemodAdd'\n",
    "    df['YearBuildRemod'] = df['YearBuilt'] + df['YearRemodAdd']\n",
    "\n",
    "    # add new features\n",
    "    df['HasFireplace'] = df['Fireplaces'].apply(lambda x: 'Yes' if x>0 else 'No')\n",
    "\n",
    "    df['Has2ndFlr'] = df['2ndFlrSF'].apply(lambda x: 'Yes' if x>0 else 'No')\n",
    "\n",
    "    df['HasBasement'] = df['TotalBsmtSF'].apply(lambda x: 'Yes' if x>0 else 'No')\n",
    "\n",
    "    new_columns = list(set(df.columns).difference(to_remove))\n",
    "    \n",
    "\n",
    "    return df[new_columns]"
   ]
  },
  {
   "cell_type": "code",
   "execution_count": 25,
   "metadata": {},
   "outputs": [],
   "source": [
    "def Feat_engineering(data):\n",
    "    df = data.copy()\n",
    "    \n",
    "     # convert to categorical\n",
    "    to_categorical = ['KitchenAbvGr', 'TotRmsAbvGrd', 'BedroomAbvGr', \n",
    "                      'GarageCars', 'HalfBath','BsmtHalfBath',\n",
    "                      'FullBath','BsmtFullBath','Fireplaces']\n",
    "    \n",
    "    df[to_categorical] = df[to_categorical].astype(str)\n",
    "\n",
    "    # drop features\n",
    "    to_remove=set(['Id', 'Street', 'Utilities','PoolQC'])\n",
    "    new_columns = list(set(df.columns).difference(to_remove))\n",
    "    \n",
    "    return df[new_columns]"
   ]
  },
  {
   "cell_type": "code",
   "execution_count": 26,
   "metadata": {},
   "outputs": [],
   "source": [
    "all_data = Feat_engineering(all_data)"
   ]
  },
  {
   "cell_type": "code",
   "execution_count": 27,
   "metadata": {},
   "outputs": [],
   "source": [
    "categorical_feat = all_data.columns[all_data.dtypes=='object']\n",
    "numeric_feat = all_data.columns[all_data.dtypes!='object']"
   ]
  },
  {
   "cell_type": "code",
   "execution_count": 28,
   "metadata": {},
   "outputs": [
    {
     "name": "stdout",
     "output_type": "stream",
     "text": [
      "49\n",
      "27\n"
     ]
    }
   ],
   "source": [
    "print(len(categorical_feat))\n",
    "print(len(numeric_feat))"
   ]
  },
  {
   "cell_type": "code",
   "execution_count": 29,
   "metadata": {},
   "outputs": [],
   "source": [
    "# skew transform"
   ]
  },
  {
   "cell_type": "code",
   "execution_count": 30,
   "metadata": {},
   "outputs": [],
   "source": [
    "def skew_transform(data):\n",
    "    df = data.copy()\n",
    "    skew_features = df.apply(lambda x: skew(x)).sort_values(ascending=False)\n",
    "\n",
    "    high_skew = skew_features[skew_features > 0.75]\n",
    "    skew_index = high_skew.index\n",
    "    print(skew_index)\n",
    "\n",
    "    df[skew_index] = df[skew_index].apply(lambda x: boxcox1p(x, boxcox_normmax(x+1)))\n",
    "    return df"
   ]
  },
  {
   "cell_type": "code",
   "execution_count": 31,
   "metadata": {},
   "outputs": [
    {
     "name": "stdout",
     "output_type": "stream",
     "text": [
      "Index(['MiscVal', 'PoolArea', 'LotArea', 'LowQualFinSF', '3SsnPorch',\n",
      "       'BsmtFinSF2', 'EnclosedPorch', 'ScreenPorch', 'MasVnrArea',\n",
      "       'OpenPorchSF', 'WoodDeckSF', 'LotFrontage', '1stFlrSF', 'BsmtFinSF1',\n",
      "       'MSSubClass', 'GrLivArea', 'TotalBsmtSF', 'BsmtUnfSF', '2ndFlrSF'],\n",
      "      dtype='object')\n"
     ]
    }
   ],
   "source": [
    "all_data[numeric_feat] = skew_transform(all_data[numeric_feat])"
   ]
  },
  {
   "cell_type": "code",
   "execution_count": 32,
   "metadata": {},
   "outputs": [],
   "source": [
    "# Normalize Sale Price\n",
    "salePrice = np.log(train.SalePrice)"
   ]
  },
  {
   "cell_type": "code",
   "execution_count": 33,
   "metadata": {},
   "outputs": [],
   "source": [
    "plt.rcParams['figure.figsize']= [10.0, 4.0]"
   ]
  },
  {
   "cell_type": "code",
   "execution_count": 34,
   "metadata": {},
   "outputs": [
    {
     "data": {
      "image/png": "[encoded data removed]",
      "text/plain": [
       "<Figure size 720x288 with 1 Axes>"
      ]
     },
     "metadata": {},
     "output_type": "display_data"
    }
   ],
   "source": [
    "salePrice.hist(bins=50)\n",
    "plt.title('SalePrice Historgram')\n",
    "plt.savefig('saleprice_log.png',bbox_inches='tight')"
   ]
  },
  {
   "cell_type": "code",
   "execution_count": 35,
   "metadata": {},
   "outputs": [
    {
     "data": {
      "text/plain": [
       "Index(['YearBuilt', 'YrSold', 'LotArea', 'MoSold', 'WoodDeckSF', 'MasVnrArea',\n",
       "       'YearRemodAdd', 'OverallQual', 'GarageArea', 'GarageYrBlt',\n",
       "       'ScreenPorch', 'BsmtUnfSF', 'BsmtFinSF2', 'EnclosedPorch',\n",
       "       'OverallCond', 'GrLivArea', 'TotalBsmtSF', 'PoolArea', '2ndFlrSF',\n",
       "       'LotFrontage', 'LowQualFinSF', 'OpenPorchSF', 'MSSubClass', 'MiscVal',\n",
       "       '1stFlrSF', '3SsnPorch', 'BsmtFinSF1'],\n",
       "      dtype='object')"
      ]
     },
     "execution_count": 35,
     "metadata": {},
     "output_type": "execute_result"
    }
   ],
   "source": [
    "numeric_feat"
   ]
  },
  {
   "cell_type": "code",
   "execution_count": 36,
   "metadata": {},
   "outputs": [
    {
     "data": {
      "image/png": "[encoded data removed]",
      "text/plain": [
       "<Figure size 720x288 with 1 Axes>"
      ]
     },
     "metadata": {},
     "output_type": "display_data"
    }
   ],
   "source": [
    "probplot(all_data['OverallQual'], plot=plt)\n",
    "plt.savefig('overallqual transformed.png',bbox_inches='tight')"
   ]
  },
  {
   "cell_type": "code",
   "execution_count": 37,
   "metadata": {},
   "outputs": [
    {
     "data": {
      "image/png": "[encoded data removed]",
      "text/plain": [
       "<Figure size 720x288 with 1 Axes>"
      ]
     },
     "metadata": {},
     "output_type": "display_data"
    }
   ],
   "source": [
    "probplot(all_data['GrLivArea'], plot=plt)\n",
    "plt.savefig('GrLivArea transform.png',bbox_inches='tight')"
   ]
  },
  {
   "cell_type": "code",
   "execution_count": 38,
   "metadata": {},
   "outputs": [
    {
     "data": {
      "image/png": "[encoded data removed]",
      "text/plain": [
       "<Figure size 720x288 with 1 Axes>"
      ]
     },
     "metadata": {},
     "output_type": "display_data"
    }
   ],
   "source": [
    "probplot(train['GrLivArea'], plot=plt)\n",
    "plt.savefig('GrLivArea before.png',bbox_inches='tight')"
   ]
  },
  {
   "cell_type": "code",
   "execution_count": 39,
   "metadata": {},
   "outputs": [],
   "source": [
    "# remove outliers"
   ]
  },
  {
   "cell_type": "code",
   "execution_count": 40,
   "metadata": {},
   "outputs": [
    {
     "name": "stdout",
     "output_type": "stream",
     "text": [
      "OverallQual 533   -3.610024\n",
      "375   -3.610024\n",
      "Name: OverallQual, dtype: float64\n",
      "GrLivArea 1298    4.218663\n",
      "523     3.646113\n",
      "1182    3.512723\n",
      "1100   -3.640328\n",
      "533    -4.481538\n",
      "Name: GrLivArea, dtype: float64\n"
     ]
    }
   ],
   "source": [
    "from scipy.stats import zscore\n",
    "z_score = {}\n",
    "for i in numeric_feat:\n",
    "    z_score[i] = zscore(all_data[i])\n",
    "z_score = pd.DataFrame(z_score)\n",
    "z_score = z_score.head(train.shape[0])\n",
    "for i in ['OverallQual','GrLivArea']:\n",
    "    print(i,z_score[np.abs(z_score[i])>3.5][i].sort_values(ascending=False))"
   ]
  },
  {
   "cell_type": "code",
   "execution_count": 41,
   "metadata": {},
   "outputs": [],
   "source": [
    "# choose the highest z_score from two ends as outlier\n",
    "# two outliers case\n",
    "outliers = [1298, 533] \n",
    "\n",
    "# four outliers case\n",
    "outliers = [1298, 533, 523, 1100]"
   ]
  },
  {
   "cell_type": "code",
   "execution_count": 42,
   "metadata": {},
   "outputs": [],
   "source": [
    "to_drop = list(map(lambda x: x[0]+'_'+x[1],[(i, all_data[i].mode()[0]) for i in categorical_feat]))"
   ]
  },
  {
   "cell_type": "code",
   "execution_count": 43,
   "metadata": {},
   "outputs": [],
   "source": [
    "cat_dummy = pd.get_dummies(all_data[categorical_feat]).drop(columns=to_drop)"
   ]
  },
  {
   "cell_type": "code",
   "execution_count": 44,
   "metadata": {},
   "outputs": [],
   "source": [
    "from sklearn.preprocessing import LabelEncoder\n",
    "le=LabelEncoder()\n",
    "data_label = all_data.copy()\n",
    "for i in categorical_feat:\n",
    "    data_label[i] = le.fit_transform(data_label[i])"
   ]
  },
  {
   "cell_type": "code",
   "execution_count": 45,
   "metadata": {},
   "outputs": [],
   "source": [
    "data_dummy = pd.concat([cat_dummy,all_data[numeric_feat]], axis=1)"
   ]
  },
  {
   "cell_type": "code",
   "execution_count": 46,
   "metadata": {},
   "outputs": [],
   "source": [
    "X = data_dummy.head(train.shape[0])\n",
    "X.drop(outliers, inplace=True)\n",
    "y = salePrice.copy()\n",
    "y.drop(outliers, inplace=True)"
   ]
  },
  {
   "cell_type": "code",
   "execution_count": 47,
   "metadata": {},
   "outputs": [],
   "source": [
    "X_le=data_label.head(train.shape[0])\n",
    "X_le.drop(outliers, inplace=True)"
   ]
  },
  {
   "cell_type": "code",
   "execution_count": 48,
   "metadata": {},
   "outputs": [
    {
     "data": {
      "text/plain": [
       "(1456, 287)"
      ]
     },
     "execution_count": 48,
     "metadata": {},
     "output_type": "execute_result"
    }
   ],
   "source": [
    "X.shape"
   ]
  },
  {
   "cell_type": "code",
   "execution_count": 49,
   "metadata": {},
   "outputs": [
    {
     "data": {
      "text/plain": [
       "(1456, 76)"
      ]
     },
     "execution_count": 49,
     "metadata": {},
     "output_type": "execute_result"
    }
   ],
   "source": [
    "X_le.shape"
   ]
  },
  {
   "cell_type": "code",
   "execution_count": 59,
   "metadata": {},
   "outputs": [],
   "source": [
    "def get_error(X_train,y_train,X_test,y_test, model, show = True, refit = True):\n",
    "    if refit: model.fit(X_train, y_train)\n",
    "    train_error = 1 - r2_score(y_train, model.predict(X_train))\n",
    "    test_error = 1 - r2_score(y_test,model.predict(X_test))\n",
    "    if show:\n",
    "        print(\"train error \", train_error)\n",
    "        print(\"test error\", test_error)\n",
    "    return [train_error, test_error]"
   ]
  },
  {
   "cell_type": "code",
   "execution_count": 60,
   "metadata": {},
   "outputs": [],
   "source": [
    "X_train, X_test, y_train, y_test = ms.train_test_split(X, y, test_size=0.2, random_state=108)\n",
    "train_idx = X_train.index\n",
    "test_idx = X_test.index"
   ]
  },
  {
   "cell_type": "code",
   "execution_count": 61,
   "metadata": {},
   "outputs": [],
   "source": [
    "plt.rcParams['figure.figsize']= [6.0, 5.0]"
   ]
  },
  {
   "cell_type": "code",
   "execution_count": 62,
   "metadata": {},
   "outputs": [],
   "source": [
    "X_train.to_csv('X_train.csv')\n",
    "X_test.to_csv('X_test.csv')\n",
    "y_train.to_csv('y_train.csv')\n",
    "y_test.to_csv('y_test.csv')"
   ]
  },
  {
   "cell_type": "code",
   "execution_count": 63,
   "metadata": {},
   "outputs": [],
   "source": [
    "# Modeling"
   ]
  },
  {
   "cell_type": "code",
   "execution_count": 64,
   "metadata": {},
   "outputs": [],
   "source": [
    "X_train = pd.read_csv('/Users/Muyan/Desktop/ML_Project/Yan_ML_Data/X_train.csv')\n",
    "y_train = pd.read_csv('/Users/Muyan/Desktop/ML_Project/Yan_ML_Data/y_train.csv', names=['Unnamed: 0', 'SalePrice'])\n",
    "X_test = pd.read_csv('/Users/Muyan/Desktop/ML_Project/Yan_ML_Data/X_test.csv')\n",
    "y_test = pd.read_csv('/Users/Muyan/Desktop/ML_Project/Yan_ML_Data/y_test.csv', names=['Unnamed: 0', 'SalePrice'])"
   ]
  },
  {
   "cell_type": "code",
   "execution_count": 65,
   "metadata": {},
   "outputs": [
    {
     "data": {
      "text/plain": [
       "Lasso(alpha=1.0, copy_X=True, fit_intercept=True, max_iter=1000, normalize=True,\n",
       "      positive=False, precompute=False, random_state=50, selection='cyclic',\n",
       "      tol=0.0001, warm_start=False)"
      ]
     },
     "execution_count": 65,
     "metadata": {},
     "output_type": "execute_result"
    }
   ],
   "source": [
    "lasso = linear_model.Lasso(normalize = True)\n",
    "\n",
    "lasso = lasso.set_params(random_state=50)\n",
    "\n",
    "# Train the model on training data\n",
    "lasso.fit(X_train, y_train)"
   ]
  },
  {
   "cell_type": "code",
   "execution_count": 66,
   "metadata": {},
   "outputs": [
    {
     "name": "stdout",
     "output_type": "stream",
     "text": [
      "Mean Absolute Error (MAE): $ Unnamed: 0    6.178992e+303\n",
      "SalePrice      5.487959e+04\n",
      "dtype: float64\n",
      "Mean Squared Error (MSE): 551.381864826745\n",
      "Root Mean Square Error (RMSE): 23.481521774083234\n",
      "Mean Absolute Percent Error (MAPE): Unnamed: 0    7.697149e+24\n",
      "SalePrice     3.062000e+01\n",
      "dtype: float64 %.\n"
     ]
    }
   ],
   "source": [
    "# Initial prediction\n",
    "lasso_pred = lasso.predict(X_test)\n",
    "\n",
    "# Print out MAE, MSE, and RMSE\n",
    "errors = abs(np.expm1(lasso_pred) - np.expm1(y_test))\n",
    "\n",
    "print('Mean Absolute Error (MAE): $', round(np.mean(errors), 2))\n",
    "print('Mean Squared Error (MSE):', mean_squared_error(y_test, lasso_pred))\n",
    "print('Root Mean Square Error (RMSE):', np.sqrt(mean_squared_error(y_test, lasso_pred)))\n",
    "\n",
    "# Calculate mean absolute percentage error (MAPE)\n",
    "mape = 100 * (errors / np.expm1(y_test))\n",
    "print('Mean Absolute Percent Error (MAPE):', round(np.mean(mape), 2), '%.')"
   ]
  },
  {
   "cell_type": "code",
   "execution_count": 67,
   "metadata": {},
   "outputs": [],
   "source": [
    "#  hyperparameters should be tuned. Tune hyperparameters (lasso)\n",
    "alphas = 100**np.linspace(10,-2,1000)*0.5\n",
    "\n",
    "param_grid_lasso = {\"max_iter\": [5, 10, 20],\n",
    "                     \"alpha\": alphas}"
   ]
  },
  {
   "cell_type": "code",
   "execution_count": 68,
   "metadata": {},
   "outputs": [
    {
     "name": "stdout",
     "output_type": "stream",
     "text": [
      "CPU times: user 19.9 s, sys: 1.01 s, total: 20.9 s\n",
      "Wall time: 2min 50s\n"
     ]
    },
    {
     "data": {
      "text/plain": [
       "GridSearchCV(cv='warn', error_score='raise-deprecating',\n",
       "             estimator=Lasso(alpha=1.0, copy_X=True, fit_intercept=True,\n",
       "                             max_iter=1000, normalize=True, positive=False,\n",
       "                             precompute=False, random_state=50,\n",
       "                             selection='cyclic', tol=0.0001, warm_start=False),\n",
       "             iid='warn', n_jobs=-1,\n",
       "             param_grid={'alpha': array([5.00000000e+19, 4.73092410e+19, 4.47632856e+19, 4.23543413e+19,\n",
       "       4.007...\n",
       "       1.14638466e-04, 1.08469176e-04, 1.02631888e-04, 9.71087341e-05,\n",
       "       9.18828100e-05, 8.69381200e-05, 8.22595294e-05, 7.78327180e-05,\n",
       "       7.36441362e-05, 6.96809637e-05, 6.59310701e-05, 6.23829776e-05,\n",
       "       5.90258264e-05, 5.58493409e-05, 5.28437986e-05, 5.00000000e-05]),\n",
       "                         'max_iter': [5, 10, 20]},\n",
       "             pre_dispatch='2*n_jobs', refit=True, return_train_score=True,\n",
       "             scoring='neg_mean_squared_error', verbose=0)"
      ]
     },
     "execution_count": 68,
     "metadata": {},
     "output_type": "execute_result"
    }
   ],
   "source": [
    "grid_search_lasso = ms.GridSearchCV(lasso, param_grid_lasso, scoring= 'neg_mean_squared_error', \n",
    "                                     n_jobs=-1, return_train_score = True)\n",
    "\n",
    "%time grid_search_lasso.fit(X_train, y_train)"
   ]
  },
  {
   "cell_type": "code",
   "execution_count": 69,
   "metadata": {},
   "outputs": [
    {
     "data": {
      "text/plain": [
       "{'alpha': 0.00015976237528796133, 'max_iter': 20}"
      ]
     },
     "execution_count": 69,
     "metadata": {},
     "output_type": "execute_result"
    }
   ],
   "source": [
    "# get the best parameters\n",
    "grid_search_lasso.best_params_"
   ]
  },
  {
   "cell_type": "code",
   "execution_count": 70,
   "metadata": {},
   "outputs": [],
   "source": [
    "# Prediction using the tuned parameters\n",
    "grid_lasso = grid_search_lasso.best_estimator_"
   ]
  },
  {
   "cell_type": "code",
   "execution_count": 71,
   "metadata": {},
   "outputs": [
    {
     "name": "stdout",
     "output_type": "stream",
     "text": [
      "The train set R^2 is: 1.00000\n",
      "The test set R^2 is is: 1.00000\n"
     ]
    }
   ],
   "source": [
    "print(\"The train set R^2 is: %.5f\" % grid_lasso.score(X_train, y_train))\n",
    "print(\"The test set R^2 is is: %.5f\" % grid_lasso.score(X_test, y_test))"
   ]
  },
  {
   "cell_type": "code",
   "execution_count": 60,
   "metadata": {},
   "outputs": [
    {
     "name": "stdout",
     "output_type": "stream",
     "text": [
      "Mean Absolute Error (MAE): $ Unnamed: 0    7.438800e+299\n",
      "SalePrice      1.291852e+04\n",
      "dtype: float64\n",
      "Mean Squared Error (MSE): 0.0062859428514155345\n",
      "Root Mean Square Error (RMSE): 0.07928393816792613\n",
      "Mean Absolute Percent Error (MAPE): Unnamed: 0    0.49\n",
      "SalePrice     7.74\n",
      "dtype: float64 %.\n"
     ]
    }
   ],
   "source": [
    "#Prediction with tuned hyperparameters\n",
    "grid_lasso_pred = grid_lasso.predict(X_test)\n",
    "\n",
    "# Calculate the absolute errors\n",
    "errors = abs(np.expm1(grid_lasso_pred) - np.expm1(y_test))\n",
    "\n",
    "# Print out MAE, MSE, and RMSE\n",
    "print('Mean Absolute Error (MAE): $', round(np.mean(errors), 2))\n",
    "print('Mean Squared Error (MSE):', mean_squared_error(y_test, grid_lasso_pred))\n",
    "print('Root Mean Square Error (RMSE):', np.sqrt(mean_squared_error(y_test, grid_lasso_pred)))\n",
    "\n",
    "# Calculate mean absolute percentage error (MAPE)\n",
    "mape = 100 * (errors / np.expm1(y_test))\n",
    "print('Mean Absolute Percent Error (MAPE):', round(np.mean(mape), 2), '%.')"
   ]
  },
  {
   "cell_type": "code",
   "execution_count": 61,
   "metadata": {},
   "outputs": [
    {
     "data": {
      "image/png": "[encoded data removed]",
      "text/plain": [
       "<Figure size 864x576 with 1 Axes>"
      ]
     },
     "metadata": {
      "needs_background": "light"
     },
     "output_type": "display_data"
    }
   ],
   "source": [
    "y_train_lasso = grid_lasso.predict(X_train)\n",
    "y_test_lasso = grid_lasso.predict(X_test)\n",
    "\n",
    "# Plot predictions\n",
    "plt.figure(figsize=(12,8))\n",
    "plt.scatter(np.expm1(y_train_lasso), np.expm1(y_train), c='red', marker=\"o\", s=15, label = \"Training data\")\n",
    "plt.scatter(np.expm1(y_test_lasso), np.expm1(y_test), c='blue', marker='o', s=15, label = \"Validation data\")\n",
    "plt.title(\"Lasso\", fontsize = 20)\n",
    "plt.xlabel(\"Predicted Prices\", fontsize = 16)\n",
    "plt.ylabel(\"Actual Prices\", fontsize = 16)\n",
    "plt.xlim(0, 800000)\n",
    "plt.ylim(0, 800000)\n",
    "plt.legend(loc = \"upper left\")\n",
    "plt.plot([0, 800000], [0, 800000], c = \"grey\")\n",
    "plt.show()"
   ]
  },
  {
   "cell_type": "code",
   "execution_count": null,
   "metadata": {},
   "outputs": [],
   "source": [
    "# Ridge"
   ]
  },
  {
   "cell_type": "code",
   "execution_count": 72,
   "metadata": {},
   "outputs": [],
   "source": [
    "X_train, X_test = X.loc[train_idx], X.loc[test_idx]"
   ]
  },
  {
   "cell_type": "code",
   "execution_count": 73,
   "metadata": {},
   "outputs": [
    {
     "name": "stdout",
     "output_type": "stream",
     "text": [
      "train error  0.43898747363635937\n",
      "test error 0.6088859099922355\n"
     ]
    },
    {
     "data": {
      "text/plain": [
       "[0.43898747363635937, 0.6088859099922355]"
      ]
     },
     "execution_count": 73,
     "metadata": {},
     "output_type": "execute_result"
    }
   ],
   "source": [
    "ridge = Ridge(alpha=7, copy_X=True, fit_intercept=True, max_iter=None,\n",
    "      normalize=False, random_state=108, solver='auto', tol=0.001)\n",
    "ridge.fit(X_train, y_train)\n",
    "get_error(X_train,y_train,X_test,y_test,ridge, True,False)"
   ]
  },
  {
   "cell_type": "code",
   "execution_count": 66,
   "metadata": {},
   "outputs": [
    {
     "name": "stdout",
     "output_type": "stream",
     "text": [
      "CPU times: user 179 ms, sys: 33.8 ms, total: 213 ms\n",
      "Wall time: 1 s\n",
      "Ridge(alpha=20.0, copy_X=True, fit_intercept=True, max_iter=None,\n",
      "      normalize=False, random_state=108, solver='auto', tol=0.001)\n",
      "train error  0.4591353054308671\n",
      "test error 0.592977897191437\n"
     ]
    },
    {
     "data": {
      "text/plain": [
       "[0.4591353054308671, 0.592977897191437]"
      ]
     },
     "execution_count": 66,
     "metadata": {},
     "output_type": "execute_result"
    }
   ],
   "source": [
    "grid_para = dict(alpha = np.linspace(0,20,10))\n",
    "ridge.set_params(random_state=108, tol=0.001)\n",
    "grid_search_ridge = ms.GridSearchCV(ridge,  cv=5, param_grid=grid_para, n_jobs=-1, verbose=0)\n",
    "%time grid_search_ridge.fit(X_train,y_train)  # What to call to trigger the gridSearchCV\n",
    "ridge=grid_search_ridge.best_estimator_\n",
    "print(ridge)\n",
    "get_error(X_train,y_train,X_test,y_test,ridge, True,False)"
   ]
  },
  {
   "cell_type": "code",
   "execution_count": 85,
   "metadata": {},
   "outputs": [
    {
     "name": "stdout",
     "output_type": "stream",
     "text": [
      "Mean Absolute Error (MAE): $ Unnamed: 0         inf\n",
      "SalePrice     12353.33\n",
      "dtype: float64\n",
      "Mean Squared Error (MSE): 91392.97937696747\n",
      "Root Mean Square Error (RMSE): 302.3127178551499\n",
      "Mean Absolute Percent Error (MAPE): Unnamed: 0     inf\n",
      "SalePrice     7.39\n",
      "dtype: float64 %.\n"
     ]
    }
   ],
   "source": [
    "#Prediction with tuned hyperparameters\n",
    "grid_ridge_pred = grid_search_ridge.predict(X_test)\n",
    "\n",
    "# Calculate the absolute errors\n",
    "errors = abs(np.expm1(grid_ridge_pred) - np.expm1(y_test))\n",
    "\n",
    "# Print out MAE, MSE, and RMSE\n",
    "print('Mean Absolute Error (MAE): $', round(np.mean(errors), 2))\n",
    "print('Mean Squared Error (MSE):', mean_squared_error(y_test, grid_ridge_pred))\n",
    "print('Root Mean Square Error (RMSE):', np.sqrt(mean_squared_error(y_test, grid_ridge_pred)))\n",
    "\n",
    "# Calculate mean absolute percentage error (MAPE)\n",
    "mape = 100 * (errors / np.expm1(y_test))\n",
    "print('Mean Absolute Percent Error (MAPE):', round(np.mean(mape), 2), '%.')"
   ]
  },
  {
   "cell_type": "code",
   "execution_count": null,
   "metadata": {},
   "outputs": [],
   "source": [
    "# Tune hyperparameters (Ridge)"
   ]
  },
  {
   "cell_type": "code",
   "execution_count": 128,
   "metadata": {},
   "outputs": [],
   "source": [
    "alphas = 100**np.linspace(10,-2,1000)*0.5\n",
    "\n",
    "param_grid_ridge = {\"max_iter\": [5, 10, 20],\n",
    "                     \"alpha\": alphas}"
   ]
  },
  {
   "cell_type": "code",
   "execution_count": 129,
   "metadata": {},
   "outputs": [
    {
     "name": "stdout",
     "output_type": "stream",
     "text": [
      "CPU times: user 21.6 s, sys: 2.38 s, total: 24 s\n",
      "Wall time: 1min 22s\n"
     ]
    },
    {
     "data": {
      "text/plain": [
       "GridSearchCV(cv='warn', error_score='raise-deprecating',\n",
       "             estimator=Lasso(alpha=1.0, copy_X=True, fit_intercept=True,\n",
       "                             max_iter=1000, normalize=True, positive=False,\n",
       "                             precompute=False, random_state=50,\n",
       "                             selection='cyclic', tol=0.0001, warm_start=False),\n",
       "             iid='warn', n_jobs=-1,\n",
       "             param_grid={'alpha': array([5.00000000e+19, 4.73092410e+19, 4.47632856e+19, 4.23543413e+19,\n",
       "       4.007...\n",
       "       1.14638466e-04, 1.08469176e-04, 1.02631888e-04, 9.71087341e-05,\n",
       "       9.18828100e-05, 8.69381200e-05, 8.22595294e-05, 7.78327180e-05,\n",
       "       7.36441362e-05, 6.96809637e-05, 6.59310701e-05, 6.23829776e-05,\n",
       "       5.90258264e-05, 5.58493409e-05, 5.28437986e-05, 5.00000000e-05]),\n",
       "                         'max_iter': [5, 10, 20]},\n",
       "             pre_dispatch='2*n_jobs', refit=True, return_train_score=True,\n",
       "             scoring='neg_mean_squared_error', verbose=0)"
      ]
     },
     "execution_count": 129,
     "metadata": {},
     "output_type": "execute_result"
    }
   ],
   "source": [
    "grid_search_ridge = ms.GridSearchCV(lasso, param_grid_ridge, scoring= 'neg_mean_squared_error', \n",
    "                                     n_jobs=-1, return_train_score = True)\n",
    "\n",
    "%time grid_search_ridge.fit(X_train, y_train)"
   ]
  },
  {
   "cell_type": "code",
   "execution_count": 131,
   "metadata": {},
   "outputs": [
    {
     "data": {
      "text/plain": [
       "{'alpha': 0.00019932905367902194, 'max_iter': 20}"
      ]
     },
     "execution_count": 131,
     "metadata": {},
     "output_type": "execute_result"
    }
   ],
   "source": [
    "# get the best parameters\n",
    "grid_search_ridge.best_params_"
   ]
  },
  {
   "cell_type": "code",
   "execution_count": 132,
   "metadata": {},
   "outputs": [],
   "source": [
    "grid_ridge = grid_search_ridge.best_estimator_"
   ]
  },
  {
   "cell_type": "code",
   "execution_count": 133,
   "metadata": {},
   "outputs": [
    {
     "name": "stdout",
     "output_type": "stream",
     "text": [
      "The train set R^2 is: 0.92979\n",
      "The test set R^2 is is: 0.91671\n"
     ]
    }
   ],
   "source": [
    "print(\"The train set R^2 is: %.5f\" % grid_ridge.score(X_train, y_train))\n",
    "print(\"The test set R^2 is is: %.5f\" % grid_ridge.score(X_test, y_test))"
   ]
  },
  {
   "cell_type": "code",
   "execution_count": 135,
   "metadata": {},
   "outputs": [
    {
     "name": "stdout",
     "output_type": "stream",
     "text": [
      "Mean Absolute Error (MAE): $ 12990.33\n",
      "Mean Squared Error (MSE): 0.01260577423967569\n",
      "Root Mean Square Error (RMSE): 0.11227543916492017\n",
      "Mean Absolute Percent Error (MAPE): SalePrice   NaN\n",
      "0           NaN\n",
      "1           NaN\n",
      "2           NaN\n",
      "3           NaN\n",
      "4           NaN\n",
      "5           NaN\n",
      "6           NaN\n",
      "7           NaN\n",
      "8           NaN\n",
      "9           NaN\n",
      "10          NaN\n",
      "11          NaN\n",
      "12          NaN\n",
      "13          NaN\n",
      "14          NaN\n",
      "15          NaN\n",
      "16          NaN\n",
      "17          NaN\n",
      "18          NaN\n",
      "19          NaN\n",
      "20          NaN\n",
      "21          NaN\n",
      "22          NaN\n",
      "23          NaN\n",
      "24          NaN\n",
      "25          NaN\n",
      "26          NaN\n",
      "27          NaN\n",
      "28          NaN\n",
      "29          NaN\n",
      "30          NaN\n",
      "31          NaN\n",
      "32          NaN\n",
      "33          NaN\n",
      "34          NaN\n",
      "35          NaN\n",
      "36          NaN\n",
      "37          NaN\n",
      "38          NaN\n",
      "39          NaN\n",
      "40          NaN\n",
      "41          NaN\n",
      "42          NaN\n",
      "43          NaN\n",
      "44          NaN\n",
      "45          NaN\n",
      "46          NaN\n",
      "47          NaN\n",
      "48          NaN\n",
      "             ..\n",
      "242         NaN\n",
      "243         NaN\n",
      "244         NaN\n",
      "245         NaN\n",
      "246         NaN\n",
      "247         NaN\n",
      "248         NaN\n",
      "249         NaN\n",
      "250         NaN\n",
      "251         NaN\n",
      "252         NaN\n",
      "253         NaN\n",
      "254         NaN\n",
      "255         NaN\n",
      "256         NaN\n",
      "257         NaN\n",
      "258         NaN\n",
      "259         NaN\n",
      "260         NaN\n",
      "261         NaN\n",
      "262         NaN\n",
      "263         NaN\n",
      "264         NaN\n",
      "265         NaN\n",
      "266         NaN\n",
      "267         NaN\n",
      "268         NaN\n",
      "269         NaN\n",
      "270         NaN\n",
      "271         NaN\n",
      "272         NaN\n",
      "273         NaN\n",
      "274         NaN\n",
      "275         NaN\n",
      "276         NaN\n",
      "277         NaN\n",
      "278         NaN\n",
      "279         NaN\n",
      "280         NaN\n",
      "281         NaN\n",
      "282         NaN\n",
      "283         NaN\n",
      "284         NaN\n",
      "285         NaN\n",
      "286         NaN\n",
      "287         NaN\n",
      "288         NaN\n",
      "289         NaN\n",
      "290         NaN\n",
      "291         NaN\n",
      "Length: 293, dtype: float64 %.\n"
     ]
    }
   ],
   "source": [
    "#Prediction with tuned hyperparameters\n",
    "grid_ridge_pred = grid_search_ridge.predict(X_test)\n",
    "\n",
    "# Calculate the absolute errors\n",
    "errors = abs(np.expm1(grid_ridge_pred) - np.expm1(y_test).SalePrice)\n",
    "\n",
    "# Print out MAE, MSE, and RMSE\n",
    "print('Mean Absolute Error (MAE): $', round(np.mean(errors), 2))\n",
    "print('Mean Squared Error (MSE):', mean_squared_error(y_test, grid_ridge_pred))\n",
    "print('Root Mean Square Error (RMSE):', np.sqrt(mean_squared_error(y_test, grid_ridge_pred)))\n",
    "\n",
    "# Calculate mean absolute percentage error (MAPE)\n",
    "mape = 100 * (errors / np.expm1(y_test))\n",
    "print('Mean Absolute Percent Error (MAPE):', round(np.mean(mape), 2), '%.')"
   ]
  },
  {
   "cell_type": "code",
   "execution_count": 137,
   "metadata": {},
   "outputs": [
    {
     "data": {
      "image/png": "[encoded data removed]",
      "text/plain": [
       "<Figure size 864x576 with 1 Axes>"
      ]
     },
     "metadata": {
      "needs_background": "light"
     },
     "output_type": "display_data"
    }
   ],
   "source": [
    "y_train_ridge = grid_search_ridge.predict(X_train)\n",
    "y_test_ridge = grid_search_ridge.predict(X_test)\n",
    "\n",
    "# Plot predictions\n",
    "plt.figure(figsize=(12,8))\n",
    "plt.scatter(np.expm1(y_train_ridge), np.expm1(y_train), c='red', marker=\"o\", s=15, label = \"Training data\")\n",
    "plt.scatter(np.expm1(y_test_ridge), np.expm1(y_test), c='blue', marker='o', s=15, label = \"Validation data\")\n",
    "plt.title(\"Ridge\", fontsize = 20)\n",
    "plt.xlabel(\"Predicted Prices\", fontsize = 16)\n",
    "plt.ylabel(\"Actual Prices\", fontsize = 16)\n",
    "plt.xlim(0, 800000)\n",
    "plt.ylim(0, 800000)\n",
    "plt.legend(loc = \"upper left\")\n",
    "plt.plot([0, 800000], [0, 800000], c = \"grey\")\n",
    "plt.show()"
   ]
  },
  {
   "cell_type": "code",
   "execution_count": null,
   "metadata": {},
   "outputs": [],
   "source": [
    "# ElasticNet"
   ]
  },
  {
   "cell_type": "code",
   "execution_count": 69,
   "metadata": {},
   "outputs": [
    {
     "data": {
      "text/plain": [
       "ElasticNet(alpha=1.0, copy_X=True, fit_intercept=True, l1_ratio=0.5,\n",
       "           max_iter=1000, normalize=True, positive=False, precompute=False,\n",
       "           random_state=12, selection='cyclic', tol=0.0001, warm_start=False)"
      ]
     },
     "execution_count": 69,
     "metadata": {},
     "output_type": "execute_result"
    }
   ],
   "source": [
    "eNet = linear_model.ElasticNet(normalize = True)\n",
    "\n",
    "eNet.set_params(random_state=12)\n",
    "\n",
    "# Train the model on training data\n",
    "eNet.fit(X_train, y_train)"
   ]
  },
  {
   "cell_type": "code",
   "execution_count": 160,
   "metadata": {},
   "outputs": [
    {
     "name": "stdout",
     "output_type": "stream",
     "text": [
      "Mean Absolute Error (MAE): $ 12990.33\n",
      "Mean Squared Error (MSE): 0.15137326804831802\n",
      "Root Mean Square Error (RMSE): 0.38906717678097447\n",
      "Mean Absolute Percent Error (MAPE): SalePrice   NaN\n",
      "0           NaN\n",
      "1           NaN\n",
      "2           NaN\n",
      "3           NaN\n",
      "4           NaN\n",
      "5           NaN\n",
      "6           NaN\n",
      "7           NaN\n",
      "8           NaN\n",
      "9           NaN\n",
      "10          NaN\n",
      "11          NaN\n",
      "12          NaN\n",
      "13          NaN\n",
      "14          NaN\n",
      "15          NaN\n",
      "16          NaN\n",
      "17          NaN\n",
      "18          NaN\n",
      "19          NaN\n",
      "20          NaN\n",
      "21          NaN\n",
      "22          NaN\n",
      "23          NaN\n",
      "24          NaN\n",
      "25          NaN\n",
      "26          NaN\n",
      "27          NaN\n",
      "28          NaN\n",
      "29          NaN\n",
      "30          NaN\n",
      "31          NaN\n",
      "32          NaN\n",
      "33          NaN\n",
      "34          NaN\n",
      "35          NaN\n",
      "36          NaN\n",
      "37          NaN\n",
      "38          NaN\n",
      "39          NaN\n",
      "40          NaN\n",
      "41          NaN\n",
      "42          NaN\n",
      "43          NaN\n",
      "44          NaN\n",
      "45          NaN\n",
      "46          NaN\n",
      "47          NaN\n",
      "48          NaN\n",
      "             ..\n",
      "242         NaN\n",
      "243         NaN\n",
      "244         NaN\n",
      "245         NaN\n",
      "246         NaN\n",
      "247         NaN\n",
      "248         NaN\n",
      "249         NaN\n",
      "250         NaN\n",
      "251         NaN\n",
      "252         NaN\n",
      "253         NaN\n",
      "254         NaN\n",
      "255         NaN\n",
      "256         NaN\n",
      "257         NaN\n",
      "258         NaN\n",
      "259         NaN\n",
      "260         NaN\n",
      "261         NaN\n",
      "262         NaN\n",
      "263         NaN\n",
      "264         NaN\n",
      "265         NaN\n",
      "266         NaN\n",
      "267         NaN\n",
      "268         NaN\n",
      "269         NaN\n",
      "270         NaN\n",
      "271         NaN\n",
      "272         NaN\n",
      "273         NaN\n",
      "274         NaN\n",
      "275         NaN\n",
      "276         NaN\n",
      "277         NaN\n",
      "278         NaN\n",
      "279         NaN\n",
      "280         NaN\n",
      "281         NaN\n",
      "282         NaN\n",
      "283         NaN\n",
      "284         NaN\n",
      "285         NaN\n",
      "286         NaN\n",
      "287         NaN\n",
      "288         NaN\n",
      "289         NaN\n",
      "290         NaN\n",
      "291         NaN\n",
      "Length: 293, dtype: float64 %.\n"
     ]
    }
   ],
   "source": [
    "# Initial prediction\n",
    "eNet_pred = eNet.predict(X_test)\n",
    "\n",
    "# Calculate the absolute errors\n",
    "errors = abs(np.expm1(grid_ridge_pred) - np.expm1(y_test).SalePrice)\n",
    "\n",
    "# Print out MAE, MSE, and RMSE\n",
    "print('Mean Absolute Error (MAE): $', round(np.mean(errors), 2))\n",
    "print('Mean Squared Error (MSE):', mean_squared_error(y_test, pd.DataFrame(eNet_pred)[1]))\n",
    "print('Root Mean Square Error (RMSE):', np.sqrt(mean_squared_error(y_test, pd.DataFrame(eNet_pred)[1])))\n",
    "\n",
    "# Calculate mean absolute percentage error (MAPE)\n",
    "mape = 100 * (errors / np.expm1(y_test))\n",
    "print('Mean Absolute Percent Error (MAPE):', round(np.mean(mape), 2), '%.')"
   ]
  },
  {
   "cell_type": "code",
   "execution_count": null,
   "metadata": {},
   "outputs": [],
   "source": [
    "# Tune hyperparameters (eNet)"
   ]
  },
  {
   "cell_type": "code",
   "execution_count": 161,
   "metadata": {},
   "outputs": [],
   "source": [
    "param_grid_eNet = {\"max_iter\": [5, 10, 20],\n",
    "                    \"alpha\": 100**np.linspace(10,-2,1000)*0.5,\n",
    "                    \"l1_ratio\": np.arange(0.0, 1.0, 0.1)}"
   ]
  },
  {
   "cell_type": "code",
   "execution_count": 72,
   "metadata": {},
   "outputs": [
    {
     "name": "stdout",
     "output_type": "stream",
     "text": [
      "CPU times: user 2min 59s, sys: 26.9 s, total: 3min 26s\n",
      "Wall time: 16min 36s\n"
     ]
    },
    {
     "data": {
      "text/plain": [
       "GridSearchCV(cv='warn', error_score='raise-deprecating',\n",
       "             estimator=ElasticNet(alpha=1.0, copy_X=True, fit_intercept=True,\n",
       "                                  l1_ratio=0.5, max_iter=1000, normalize=True,\n",
       "                                  positive=False, precompute=False,\n",
       "                                  random_state=12, selection='cyclic',\n",
       "                                  tol=0.0001, warm_start=False),\n",
       "             iid='warn', n_jobs=-1,\n",
       "             param_grid={'alpha': array([5.00000000e+19, 4.73092410e+19, 4.47632856e+19, 4....\n",
       "       9.18828100e-05, 8.69381200e-05, 8.22595294e-05, 7.78327180e-05,\n",
       "       7.36441362e-05, 6.96809637e-05, 6.59310701e-05, 6.23829776e-05,\n",
       "       5.90258264e-05, 5.58493409e-05, 5.28437986e-05, 5.00000000e-05]),\n",
       "                         'l1_ratio': array([0. , 0.1, 0.2, 0.3, 0.4, 0.5, 0.6, 0.7, 0.8, 0.9]),\n",
       "                         'max_iter': [5, 10, 20]},\n",
       "             pre_dispatch='2*n_jobs', refit=True, return_train_score=True,\n",
       "             scoring='neg_mean_squared_error', verbose=0)"
      ]
     },
     "execution_count": 72,
     "metadata": {},
     "output_type": "execute_result"
    }
   ],
   "source": [
    "grid_search_eNet = ms.GridSearchCV(eNet, param_grid_eNet, scoring= 'neg_mean_squared_error', \n",
    "                                    n_jobs=-1, return_train_score = True)\n",
    "\n",
    "%time grid_search_eNet.fit(X_train, y_train)"
   ]
  },
  {
   "cell_type": "code",
   "execution_count": 118,
   "metadata": {},
   "outputs": [
    {
     "data": {
      "text/plain": [
       "{'alpha': 0.023207944168063956, 'l1_ratio': 0.0, 'max_iter': 10}"
      ]
     },
     "execution_count": 118,
     "metadata": {},
     "output_type": "execute_result"
    }
   ],
   "source": [
    "# get the best parameters\n",
    "grid_search_eNet.best_params_"
   ]
  },
  {
   "cell_type": "code",
   "execution_count": 119,
   "metadata": {},
   "outputs": [],
   "source": [
    "# Prediction using the tuned parameters\n",
    "grid_eNet = grid_search_eNet.best_estimator_"
   ]
  },
  {
   "cell_type": "code",
   "execution_count": 166,
   "metadata": {},
   "outputs": [
    {
     "ename": "ValueError",
     "evalue": "y_true and y_pred have different number of output (1!=2)",
     "output_type": "error",
     "traceback": [
      "\u001b[0;31m---------------------------------------------------------------------------\u001b[0m",
      "\u001b[0;31mValueError\u001b[0m                                Traceback (most recent call last)",
      "\u001b[0;32m<ipython-input-166-5dc8a545d48d>\u001b[0m in \u001b[0;36m<module>\u001b[0;34m\u001b[0m\n\u001b[0;32m----> 1\u001b[0;31m \u001b[0mprint\u001b[0m\u001b[0;34m(\u001b[0m\u001b[0;34m\"The train set R^2 is: %.5f\"\u001b[0m \u001b[0;34m%\u001b[0m \u001b[0mgrid_eNet\u001b[0m\u001b[0;34m.\u001b[0m\u001b[0mscore\u001b[0m\u001b[0;34m(\u001b[0m\u001b[0mX_train\u001b[0m\u001b[0;34m,\u001b[0m \u001b[0my_train\u001b[0m\u001b[0;34m)\u001b[0m\u001b[0;34m)\u001b[0m\u001b[0;34m\u001b[0m\u001b[0;34m\u001b[0m\u001b[0m\n\u001b[0m\u001b[1;32m      2\u001b[0m \u001b[0mprint\u001b[0m\u001b[0;34m(\u001b[0m\u001b[0;34m\"The test set R^2 is is: %.5f\"\u001b[0m \u001b[0;34m%\u001b[0m \u001b[0mgrid_eNet\u001b[0m\u001b[0;34m.\u001b[0m\u001b[0mscore\u001b[0m\u001b[0;34m(\u001b[0m\u001b[0mX_test\u001b[0m\u001b[0;34m,\u001b[0m \u001b[0my_test\u001b[0m\u001b[0;34m)\u001b[0m\u001b[0;34m)\u001b[0m\u001b[0;34m\u001b[0m\u001b[0;34m\u001b[0m\u001b[0m\n",
      "\u001b[0;32m~/anaconda3/lib/python3.7/site-packages/sklearn/base.py\u001b[0m in \u001b[0;36mscore\u001b[0;34m(self, X, y, sample_weight)\u001b[0m\n\u001b[1;32m    408\u001b[0m         \u001b[0my_pred\u001b[0m \u001b[0;34m=\u001b[0m \u001b[0mself\u001b[0m\u001b[0;34m.\u001b[0m\u001b[0mpredict\u001b[0m\u001b[0;34m(\u001b[0m\u001b[0mX\u001b[0m\u001b[0;34m)\u001b[0m\u001b[0;34m\u001b[0m\u001b[0;34m\u001b[0m\u001b[0m\n\u001b[1;32m    409\u001b[0m         \u001b[0;31m# XXX: Remove the check in 0.23\u001b[0m\u001b[0;34m\u001b[0m\u001b[0;34m\u001b[0m\u001b[0;34m\u001b[0m\u001b[0m\n\u001b[0;32m--> 410\u001b[0;31m         \u001b[0my_type\u001b[0m\u001b[0;34m,\u001b[0m \u001b[0m_\u001b[0m\u001b[0;34m,\u001b[0m \u001b[0m_\u001b[0m\u001b[0;34m,\u001b[0m \u001b[0m_\u001b[0m \u001b[0;34m=\u001b[0m \u001b[0m_check_reg_targets\u001b[0m\u001b[0;34m(\u001b[0m\u001b[0my\u001b[0m\u001b[0;34m,\u001b[0m \u001b[0my_pred\u001b[0m\u001b[0;34m,\u001b[0m \u001b[0;32mNone\u001b[0m\u001b[0;34m)\u001b[0m\u001b[0;34m\u001b[0m\u001b[0;34m\u001b[0m\u001b[0m\n\u001b[0m\u001b[1;32m    411\u001b[0m         \u001b[0;32mif\u001b[0m \u001b[0my_type\u001b[0m \u001b[0;34m==\u001b[0m \u001b[0;34m'continuous-multioutput'\u001b[0m\u001b[0;34m:\u001b[0m\u001b[0;34m\u001b[0m\u001b[0;34m\u001b[0m\u001b[0m\n\u001b[1;32m    412\u001b[0m             warnings.warn(\"The default value of multioutput (not exposed in \"\n",
      "\u001b[0;32m~/anaconda3/lib/python3.7/site-packages/sklearn/metrics/regression.py\u001b[0m in \u001b[0;36m_check_reg_targets\u001b[0;34m(y_true, y_pred, multioutput)\u001b[0m\n\u001b[1;32m     87\u001b[0m     \u001b[0;32mif\u001b[0m \u001b[0my_true\u001b[0m\u001b[0;34m.\u001b[0m\u001b[0mshape\u001b[0m\u001b[0;34m[\u001b[0m\u001b[0;36m1\u001b[0m\u001b[0;34m]\u001b[0m \u001b[0;34m!=\u001b[0m \u001b[0my_pred\u001b[0m\u001b[0;34m.\u001b[0m\u001b[0mshape\u001b[0m\u001b[0;34m[\u001b[0m\u001b[0;36m1\u001b[0m\u001b[0;34m]\u001b[0m\u001b[0;34m:\u001b[0m\u001b[0;34m\u001b[0m\u001b[0;34m\u001b[0m\u001b[0m\n\u001b[1;32m     88\u001b[0m         raise ValueError(\"y_true and y_pred have different number of output \"\n\u001b[0;32m---> 89\u001b[0;31m                          \"({0}!={1})\".format(y_true.shape[1], y_pred.shape[1]))\n\u001b[0m\u001b[1;32m     90\u001b[0m \u001b[0;34m\u001b[0m\u001b[0m\n\u001b[1;32m     91\u001b[0m     \u001b[0mn_outputs\u001b[0m \u001b[0;34m=\u001b[0m \u001b[0my_true\u001b[0m\u001b[0;34m.\u001b[0m\u001b[0mshape\u001b[0m\u001b[0;34m[\u001b[0m\u001b[0;36m1\u001b[0m\u001b[0;34m]\u001b[0m\u001b[0;34m\u001b[0m\u001b[0;34m\u001b[0m\u001b[0m\n",
      "\u001b[0;31mValueError\u001b[0m: y_true and y_pred have different number of output (1!=2)"
     ]
    }
   ],
   "source": [
    "print(\"The train set R^2 is: %.5f\" % grid_eNet.score(X_train, y_train))\n",
    "print(\"The test set R^2 is is: %.5f\" % grid_eNet.score(X_test, y_test))"
   ]
  },
  {
   "cell_type": "code",
   "execution_count": 170,
   "metadata": {},
   "outputs": [
    {
     "name": "stdout",
     "output_type": "stream",
     "text": [
      "Mean Absolute Error (MAE): $ 12990.33\n",
      "Mean Squared Error (MSE): 0.0828699360779421\n",
      "Root Mean Square Error (RMSE): 0.28787138808492607\n",
      "Mean Absolute Percent Error (MAPE): SalePrice   NaN\n",
      "0           NaN\n",
      "1           NaN\n",
      "2           NaN\n",
      "3           NaN\n",
      "4           NaN\n",
      "5           NaN\n",
      "6           NaN\n",
      "7           NaN\n",
      "8           NaN\n",
      "9           NaN\n",
      "10          NaN\n",
      "11          NaN\n",
      "12          NaN\n",
      "13          NaN\n",
      "14          NaN\n",
      "15          NaN\n",
      "16          NaN\n",
      "17          NaN\n",
      "18          NaN\n",
      "19          NaN\n",
      "20          NaN\n",
      "21          NaN\n",
      "22          NaN\n",
      "23          NaN\n",
      "24          NaN\n",
      "25          NaN\n",
      "26          NaN\n",
      "27          NaN\n",
      "28          NaN\n",
      "29          NaN\n",
      "30          NaN\n",
      "31          NaN\n",
      "32          NaN\n",
      "33          NaN\n",
      "34          NaN\n",
      "35          NaN\n",
      "36          NaN\n",
      "37          NaN\n",
      "38          NaN\n",
      "39          NaN\n",
      "40          NaN\n",
      "41          NaN\n",
      "42          NaN\n",
      "43          NaN\n",
      "44          NaN\n",
      "45          NaN\n",
      "46          NaN\n",
      "47          NaN\n",
      "48          NaN\n",
      "             ..\n",
      "242         NaN\n",
      "243         NaN\n",
      "244         NaN\n",
      "245         NaN\n",
      "246         NaN\n",
      "247         NaN\n",
      "248         NaN\n",
      "249         NaN\n",
      "250         NaN\n",
      "251         NaN\n",
      "252         NaN\n",
      "253         NaN\n",
      "254         NaN\n",
      "255         NaN\n",
      "256         NaN\n",
      "257         NaN\n",
      "258         NaN\n",
      "259         NaN\n",
      "260         NaN\n",
      "261         NaN\n",
      "262         NaN\n",
      "263         NaN\n",
      "264         NaN\n",
      "265         NaN\n",
      "266         NaN\n",
      "267         NaN\n",
      "268         NaN\n",
      "269         NaN\n",
      "270         NaN\n",
      "271         NaN\n",
      "272         NaN\n",
      "273         NaN\n",
      "274         NaN\n",
      "275         NaN\n",
      "276         NaN\n",
      "277         NaN\n",
      "278         NaN\n",
      "279         NaN\n",
      "280         NaN\n",
      "281         NaN\n",
      "282         NaN\n",
      "283         NaN\n",
      "284         NaN\n",
      "285         NaN\n",
      "286         NaN\n",
      "287         NaN\n",
      "288         NaN\n",
      "289         NaN\n",
      "290         NaN\n",
      "291         NaN\n",
      "Length: 293, dtype: float64 %.\n"
     ]
    }
   ],
   "source": [
    "#Prediction with tuned hyperparameters\n",
    "grid_eNet_pred = grid_eNet.predict(X_test)\n",
    "\n",
    "# Calculate the absolute errors\n",
    "errors = abs(np.expm1(grid_ridge_pred) - np.expm1(y_test).SalePrice)\n",
    "\n",
    "# Print out MAE, MSE, and RMSE\n",
    "print('Mean Absolute Error (MAE): $', round(np.mean(errors), 2))\n",
    "print('Mean Squared Error (MSE):', mean_squared_error(y_test, pd.DataFrame(grid_eNet_pred)[1]))\n",
    "print('Root Mean Square Error (RMSE):', np.sqrt(mean_squared_error(y_test, pd.DataFrame(grid_eNet_pred)[1])))\n",
    "\n",
    "# Calculate mean absolute percentage error (MAPE)\n",
    "mape = 100 * (errors / np.expm1(y_test))\n",
    "print('Mean Absolute Percent Error (MAPE):', round(np.mean(mape), 2), '%.')"
   ]
  },
  {
   "cell_type": "code",
   "execution_count": null,
   "metadata": {},
   "outputs": [],
   "source": [
    "# Random Forest"
   ]
  },
  {
   "cell_type": "code",
   "execution_count": 87,
   "metadata": {},
   "outputs": [
    {
     "data": {
      "text/plain": [
       "RandomForestRegressor(bootstrap=True, criterion='mse', max_depth=None,\n",
       "                      max_features='auto', max_leaf_nodes=None,\n",
       "                      min_impurity_decrease=0.0, min_impurity_split=None,\n",
       "                      min_samples_leaf=1, min_samples_split=2,\n",
       "                      min_weight_fraction_leaf=0.0, n_estimators=10,\n",
       "                      n_jobs=None, oob_score=False, random_state=52, verbose=0,\n",
       "                      warm_start=False)"
      ]
     },
     "execution_count": 87,
     "metadata": {},
     "output_type": "execute_result"
    }
   ],
   "source": [
    "rforest = RandomForestRegressor()\n",
    "\n",
    "rforest.set_params(random_state=52)\n",
    "\n",
    "# Train the model on training data\n",
    "rforest.fit(X_train, y_train)"
   ]
  },
  {
   "cell_type": "code",
   "execution_count": 88,
   "metadata": {},
   "outputs": [
    {
     "name": "stdout",
     "output_type": "stream",
     "text": [
      "The train set R^2 is: 0.79629\n",
      "The test set R^2 is is: -0.23261\n"
     ]
    }
   ],
   "source": [
    "print(\"The train set R^2 is: %.5f\" % rforest.score(X_train, y_train))\n",
    "print(\"The test set R^2 is is: %.5f\" % rforest.score(X_test, y_test))"
   ]
  },
  {
   "cell_type": "code",
   "execution_count": 89,
   "metadata": {},
   "outputs": [
    {
     "name": "stdout",
     "output_type": "stream",
     "text": [
      "Mean Absolute Error (MAE): $ Unnamed: 0         inf\n",
      "SalePrice     26452.53\n",
      "dtype: float64\n",
      "Mean Squared Error (MSE): 101557.18528094245\n",
      "Root Mean Square Error (RMSE): 318.6803810731725\n",
      "Mean Absolute Percent Error (MAPE): Unnamed: 0      inf\n",
      "SalePrice     14.36\n",
      "dtype: float64 %.\n"
     ]
    }
   ],
   "source": [
    "# Initial prediction\n",
    "rforest_pred = rforest.predict(X_test)\n",
    "\n",
    "# Calculate the absolute errors\n",
    "errors = abs(np.expm1(rforest_pred) - np.expm1(y_test))\n",
    "\n",
    "# Print out MAE, MSE, and RMSE\n",
    "print('Mean Absolute Error (MAE): $', round(np.mean(errors), 2))\n",
    "print('Mean Squared Error (MSE):', mean_squared_error(y_test, rforest_pred))\n",
    "print('Root Mean Square Error (RMSE):', np.sqrt(mean_squared_error(y_test, rforest_pred)))\n",
    "\n",
    "# Calculate mean absolute percentage error (MAPE)\n",
    "mape = 100 * (errors / np.expm1(y_test))\n",
    "print('Mean Absolute Percent Error (MAPE):', round(np.mean(mape), 2), '%.')"
   ]
  },
  {
   "cell_type": "code",
   "execution_count": null,
   "metadata": {},
   "outputs": [],
   "source": [
    "# Tune hyperparameters"
   ]
  },
  {
   "cell_type": "code",
   "execution_count": 91,
   "metadata": {},
   "outputs": [],
   "source": [
    "from sklearn.preprocessing import RobustScaler\n",
    "from sklearn.metrics import mean_squared_error, r2_score"
   ]
  },
  {
   "cell_type": "code",
   "execution_count": 92,
   "metadata": {},
   "outputs": [],
   "source": [
    "param_grid ={'max_depth': [20, 25, 30],\n",
    "             'max_features': ['auto','sqrt','log2'],\n",
    "             'min_samples_split':[2,3,4],\n",
    "             'min_samples_leaf':[1, 3, 5],\n",
    "             'n_estimators': [500, 750, 1000, 1250, 1500]}"
   ]
  },
  {
   "cell_type": "code",
   "execution_count": null,
   "metadata": {},
   "outputs": [],
   "source": [
    "grid_search_rforest = ms.GridSearchCV(rforest, param_grid, scoring='neg_mean_squared_error', \n",
    "                                      n_jobs=-1, return_train_score = True)\n",
    "\n",
    "%time grid_search_rforest.fit(X_train, y_train)"
   ]
  },
  {
   "cell_type": "code",
   "execution_count": null,
   "metadata": {},
   "outputs": [],
   "source": [
    "# get the best parameters\n",
    "grid_search_rforest.best_params_"
   ]
  },
  {
   "cell_type": "code",
   "execution_count": null,
   "metadata": {},
   "outputs": [],
   "source": [
    "# Prediction using the tuned parameters\n",
    "grid_rforest = grid_search_rforest.best_estimator_"
   ]
  },
  {
   "cell_type": "code",
   "execution_count": null,
   "metadata": {},
   "outputs": [],
   "source": [
    "print(\"The train set R^2 is: %.5f\" % grid_rforest.score(X_train, y_train))\n",
    "print(\"The test set R^2 is is: %.5f\" % grid_rforest.score(X_test, y_test))"
   ]
  },
  {
   "cell_type": "code",
   "execution_count": null,
   "metadata": {},
   "outputs": [],
   "source": [
    "#Prediction with tuned hyperparameters\n",
    "grid_rforest_pred = grid_rforest.predict(X_test)\n",
    "\n",
    "# Calculate the absolute errors\n",
    "errors = abs(np.expm1(grid_rforest_pred) - np.expm1(y_test))\n",
    "\n",
    "# Print out MAE, MSE, and RMSE\n",
    "print('Mean Absolute Error (MAE): $', round(np.mean(errors), 2))\n",
    "print('Mean Squared Error (MSE):', mean_squared_error(y_test, grid_rforest_pred))\n",
    "print('Root Mean Square Error (RMSE):', np.sqrt(mean_squared_error(y_test, grid_rforest_pred)))\n",
    "\n",
    "# Calculate mean absolute percentage error (MAPE)\n",
    "mape = 100 * (errors / np.expm1(y_test))\n",
    "print('Mean Absolute Percent Error (MAPE):', round(np.mean(mape), 2), '%.')"
   ]
  },
  {
   "cell_type": "code",
   "execution_count": null,
   "metadata": {},
   "outputs": [],
   "source": [
    "y_train_rForest = grid_rforest.predict(X_train)\n",
    "y_test_rForest = grid_rforest.predict(X_test)\n",
    "\n",
    "# Plot predictions\n",
    "plt.figure(figsize=(12,8))\n",
    "plt.scatter(np.expm1(y_train_rForest), np.expm1(y_train), c='black', marker=\"o\", s=15, label = \"Training data\")\n",
    "plt.scatter(np.expm1(y_test_rForest), np.expm1(y_test), c='orange', marker='o', s=15, label = \"Validation data\")\n",
    "plt.title(\"Random Forest\", fontsize = 20)\n",
    "plt.xlabel(\"Predicted Prices\", fontsize = 16)\n",
    "plt.ylabel(\"Actual Prices\", fontsize = 16)\n",
    "plt.xlim(0, 800000)\n",
    "plt.ylim(0, 800000)\n",
    "plt.legend(loc = \"upper left\")\n",
    "plt.plot([0, 800000], [0, 800000], c = \"grey\")\n",
    "plt.show()"
   ]
  },
  {
   "cell_type": "code",
   "execution_count": null,
   "metadata": {},
   "outputs": [],
   "source": [
    "# Gradient Boosting"
   ]
  },
  {
   "cell_type": "code",
   "execution_count": null,
   "metadata": {},
   "outputs": [],
   "source": [
    "gbm = GradientBoostingRegressor()\n",
    "\n",
    "gbm.set_params(random_state=42)"
   ]
  },
  {
   "cell_type": "code",
   "execution_count": null,
   "metadata": {
    "scrolled": true
   },
   "outputs": [],
   "source": [
    "# Train model on training data\n",
    "gbm.fit(X_train, y_train)"
   ]
  },
  {
   "cell_type": "code",
   "execution_count": 85,
   "metadata": {},
   "outputs": [
    {
     "ename": "NotFittedError",
     "evalue": "This GradientBoostingRegressor instance is not fitted yet. Call 'fit' with appropriate arguments before using this method.",
     "output_type": "error",
     "traceback": [
      "\u001b[0;31m---------------------------------------------------------------------------\u001b[0m",
      "\u001b[0;31mNotFittedError\u001b[0m                            Traceback (most recent call last)",
      "\u001b[0;32m<ipython-input-85-2f120307d4db>\u001b[0m in \u001b[0;36m<module>\u001b[0;34m\u001b[0m\n\u001b[0;32m----> 1\u001b[0;31m \u001b[0mprint\u001b[0m\u001b[0;34m(\u001b[0m\u001b[0;34m\"The train set R^2 is: %.5f\"\u001b[0m \u001b[0;34m%\u001b[0m \u001b[0mgbm\u001b[0m\u001b[0;34m.\u001b[0m\u001b[0mscore\u001b[0m\u001b[0;34m(\u001b[0m\u001b[0mX_train\u001b[0m\u001b[0;34m,\u001b[0m \u001b[0my_train\u001b[0m\u001b[0;34m)\u001b[0m\u001b[0;34m)\u001b[0m\u001b[0;34m\u001b[0m\u001b[0;34m\u001b[0m\u001b[0m\n\u001b[0m\u001b[1;32m      2\u001b[0m \u001b[0mprint\u001b[0m\u001b[0;34m(\u001b[0m\u001b[0;34m\"The test set R^2 is is: %.5f\"\u001b[0m \u001b[0;34m%\u001b[0m \u001b[0mgbm\u001b[0m\u001b[0;34m.\u001b[0m\u001b[0mscore\u001b[0m\u001b[0;34m(\u001b[0m\u001b[0mX_test\u001b[0m\u001b[0;34m,\u001b[0m \u001b[0my_test\u001b[0m\u001b[0;34m)\u001b[0m\u001b[0;34m)\u001b[0m\u001b[0;34m\u001b[0m\u001b[0;34m\u001b[0m\u001b[0m\n",
      "\u001b[0;32m~/anaconda3/lib/python3.7/site-packages/sklearn/base.py\u001b[0m in \u001b[0;36mscore\u001b[0;34m(self, X, y, sample_weight)\u001b[0m\n\u001b[1;32m    406\u001b[0m         \u001b[0;32mfrom\u001b[0m \u001b[0;34m.\u001b[0m\u001b[0mmetrics\u001b[0m \u001b[0;32mimport\u001b[0m \u001b[0mr2_score\u001b[0m\u001b[0;34m\u001b[0m\u001b[0;34m\u001b[0m\u001b[0m\n\u001b[1;32m    407\u001b[0m         \u001b[0;32mfrom\u001b[0m \u001b[0;34m.\u001b[0m\u001b[0mmetrics\u001b[0m\u001b[0;34m.\u001b[0m\u001b[0mregression\u001b[0m \u001b[0;32mimport\u001b[0m \u001b[0m_check_reg_targets\u001b[0m\u001b[0;34m\u001b[0m\u001b[0;34m\u001b[0m\u001b[0m\n\u001b[0;32m--> 408\u001b[0;31m         \u001b[0my_pred\u001b[0m \u001b[0;34m=\u001b[0m \u001b[0mself\u001b[0m\u001b[0;34m.\u001b[0m\u001b[0mpredict\u001b[0m\u001b[0;34m(\u001b[0m\u001b[0mX\u001b[0m\u001b[0;34m)\u001b[0m\u001b[0;34m\u001b[0m\u001b[0;34m\u001b[0m\u001b[0m\n\u001b[0m\u001b[1;32m    409\u001b[0m         \u001b[0;31m# XXX: Remove the check in 0.23\u001b[0m\u001b[0;34m\u001b[0m\u001b[0;34m\u001b[0m\u001b[0;34m\u001b[0m\u001b[0m\n\u001b[1;32m    410\u001b[0m         \u001b[0my_type\u001b[0m\u001b[0;34m,\u001b[0m \u001b[0m_\u001b[0m\u001b[0;34m,\u001b[0m \u001b[0m_\u001b[0m\u001b[0;34m,\u001b[0m \u001b[0m_\u001b[0m \u001b[0;34m=\u001b[0m \u001b[0m_check_reg_targets\u001b[0m\u001b[0;34m(\u001b[0m\u001b[0my\u001b[0m\u001b[0;34m,\u001b[0m \u001b[0my_pred\u001b[0m\u001b[0;34m,\u001b[0m \u001b[0;32mNone\u001b[0m\u001b[0;34m)\u001b[0m\u001b[0;34m\u001b[0m\u001b[0;34m\u001b[0m\u001b[0m\n",
      "\u001b[0;32m~/anaconda3/lib/python3.7/site-packages/sklearn/ensemble/gradient_boosting.py\u001b[0m in \u001b[0;36mpredict\u001b[0;34m(self, X)\u001b[0m\n\u001b[1;32m   2530\u001b[0m         \u001b[0mX\u001b[0m \u001b[0;34m=\u001b[0m \u001b[0mcheck_array\u001b[0m\u001b[0;34m(\u001b[0m\u001b[0mX\u001b[0m\u001b[0;34m,\u001b[0m \u001b[0mdtype\u001b[0m\u001b[0;34m=\u001b[0m\u001b[0mDTYPE\u001b[0m\u001b[0;34m,\u001b[0m \u001b[0morder\u001b[0m\u001b[0;34m=\u001b[0m\u001b[0;34m\"C\"\u001b[0m\u001b[0;34m,\u001b[0m \u001b[0maccept_sparse\u001b[0m\u001b[0;34m=\u001b[0m\u001b[0;34m'csr'\u001b[0m\u001b[0;34m)\u001b[0m\u001b[0;34m\u001b[0m\u001b[0;34m\u001b[0m\u001b[0m\n\u001b[1;32m   2531\u001b[0m         \u001b[0;31m# In regression we can directly return the raw value from the trees.\u001b[0m\u001b[0;34m\u001b[0m\u001b[0;34m\u001b[0m\u001b[0;34m\u001b[0m\u001b[0m\n\u001b[0;32m-> 2532\u001b[0;31m         \u001b[0;32mreturn\u001b[0m \u001b[0mself\u001b[0m\u001b[0;34m.\u001b[0m\u001b[0m_raw_predict\u001b[0m\u001b[0;34m(\u001b[0m\u001b[0mX\u001b[0m\u001b[0;34m)\u001b[0m\u001b[0;34m.\u001b[0m\u001b[0mravel\u001b[0m\u001b[0;34m(\u001b[0m\u001b[0;34m)\u001b[0m\u001b[0;34m\u001b[0m\u001b[0;34m\u001b[0m\u001b[0m\n\u001b[0m\u001b[1;32m   2533\u001b[0m \u001b[0;34m\u001b[0m\u001b[0m\n\u001b[1;32m   2534\u001b[0m     \u001b[0;32mdef\u001b[0m \u001b[0mstaged_predict\u001b[0m\u001b[0;34m(\u001b[0m\u001b[0mself\u001b[0m\u001b[0;34m,\u001b[0m \u001b[0mX\u001b[0m\u001b[0;34m)\u001b[0m\u001b[0;34m:\u001b[0m\u001b[0;34m\u001b[0m\u001b[0;34m\u001b[0m\u001b[0m\n",
      "\u001b[0;32m~/anaconda3/lib/python3.7/site-packages/sklearn/ensemble/gradient_boosting.py\u001b[0m in \u001b[0;36m_raw_predict\u001b[0;34m(self, X)\u001b[0m\n\u001b[1;32m   1669\u001b[0m     \u001b[0;32mdef\u001b[0m \u001b[0m_raw_predict\u001b[0m\u001b[0;34m(\u001b[0m\u001b[0mself\u001b[0m\u001b[0;34m,\u001b[0m \u001b[0mX\u001b[0m\u001b[0;34m)\u001b[0m\u001b[0;34m:\u001b[0m\u001b[0;34m\u001b[0m\u001b[0;34m\u001b[0m\u001b[0m\n\u001b[1;32m   1670\u001b[0m         \u001b[0;34m\"\"\"Return the sum of the trees raw predictions (+ init estimator).\"\"\"\u001b[0m\u001b[0;34m\u001b[0m\u001b[0;34m\u001b[0m\u001b[0m\n\u001b[0;32m-> 1671\u001b[0;31m         \u001b[0mraw_predictions\u001b[0m \u001b[0;34m=\u001b[0m \u001b[0mself\u001b[0m\u001b[0;34m.\u001b[0m\u001b[0m_raw_predict_init\u001b[0m\u001b[0;34m(\u001b[0m\u001b[0mX\u001b[0m\u001b[0;34m)\u001b[0m\u001b[0;34m\u001b[0m\u001b[0;34m\u001b[0m\u001b[0m\n\u001b[0m\u001b[1;32m   1672\u001b[0m         predict_stages(self.estimators_, X, self.learning_rate,\n\u001b[1;32m   1673\u001b[0m                        raw_predictions)\n",
      "\u001b[0;32m~/anaconda3/lib/python3.7/site-packages/sklearn/ensemble/gradient_boosting.py\u001b[0m in \u001b[0;36m_raw_predict_init\u001b[0;34m(self, X)\u001b[0m\n\u001b[1;32m   1654\u001b[0m     \u001b[0;32mdef\u001b[0m \u001b[0m_raw_predict_init\u001b[0m\u001b[0;34m(\u001b[0m\u001b[0mself\u001b[0m\u001b[0;34m,\u001b[0m \u001b[0mX\u001b[0m\u001b[0;34m)\u001b[0m\u001b[0;34m:\u001b[0m\u001b[0;34m\u001b[0m\u001b[0;34m\u001b[0m\u001b[0m\n\u001b[1;32m   1655\u001b[0m         \u001b[0;34m\"\"\"Check input and compute raw predictions of the init estimtor.\"\"\"\u001b[0m\u001b[0;34m\u001b[0m\u001b[0;34m\u001b[0m\u001b[0m\n\u001b[0;32m-> 1656\u001b[0;31m         \u001b[0mself\u001b[0m\u001b[0;34m.\u001b[0m\u001b[0m_check_initialized\u001b[0m\u001b[0;34m(\u001b[0m\u001b[0;34m)\u001b[0m\u001b[0;34m\u001b[0m\u001b[0;34m\u001b[0m\u001b[0m\n\u001b[0m\u001b[1;32m   1657\u001b[0m         \u001b[0mX\u001b[0m \u001b[0;34m=\u001b[0m \u001b[0mself\u001b[0m\u001b[0;34m.\u001b[0m\u001b[0mestimators_\u001b[0m\u001b[0;34m[\u001b[0m\u001b[0;36m0\u001b[0m\u001b[0;34m,\u001b[0m \u001b[0;36m0\u001b[0m\u001b[0;34m]\u001b[0m\u001b[0;34m.\u001b[0m\u001b[0m_validate_X_predict\u001b[0m\u001b[0;34m(\u001b[0m\u001b[0mX\u001b[0m\u001b[0;34m,\u001b[0m \u001b[0mcheck_input\u001b[0m\u001b[0;34m=\u001b[0m\u001b[0;32mTrue\u001b[0m\u001b[0;34m)\u001b[0m\u001b[0;34m\u001b[0m\u001b[0;34m\u001b[0m\u001b[0m\n\u001b[1;32m   1658\u001b[0m         \u001b[0;32mif\u001b[0m \u001b[0mX\u001b[0m\u001b[0;34m.\u001b[0m\u001b[0mshape\u001b[0m\u001b[0;34m[\u001b[0m\u001b[0;36m1\u001b[0m\u001b[0;34m]\u001b[0m \u001b[0;34m!=\u001b[0m \u001b[0mself\u001b[0m\u001b[0;34m.\u001b[0m\u001b[0mn_features_\u001b[0m\u001b[0;34m:\u001b[0m\u001b[0;34m\u001b[0m\u001b[0;34m\u001b[0m\u001b[0m\n",
      "\u001b[0;32m~/anaconda3/lib/python3.7/site-packages/sklearn/ensemble/gradient_boosting.py\u001b[0m in \u001b[0;36m_check_initialized\u001b[0;34m(self)\u001b[0m\n\u001b[1;32m   1391\u001b[0m     \u001b[0;32mdef\u001b[0m \u001b[0m_check_initialized\u001b[0m\u001b[0;34m(\u001b[0m\u001b[0mself\u001b[0m\u001b[0;34m)\u001b[0m\u001b[0;34m:\u001b[0m\u001b[0;34m\u001b[0m\u001b[0;34m\u001b[0m\u001b[0m\n\u001b[1;32m   1392\u001b[0m         \u001b[0;34m\"\"\"Check that the estimator is initialized, raising an error if not.\"\"\"\u001b[0m\u001b[0;34m\u001b[0m\u001b[0;34m\u001b[0m\u001b[0m\n\u001b[0;32m-> 1393\u001b[0;31m         \u001b[0mcheck_is_fitted\u001b[0m\u001b[0;34m(\u001b[0m\u001b[0mself\u001b[0m\u001b[0;34m,\u001b[0m \u001b[0;34m'estimators_'\u001b[0m\u001b[0;34m)\u001b[0m\u001b[0;34m\u001b[0m\u001b[0;34m\u001b[0m\u001b[0m\n\u001b[0m\u001b[1;32m   1394\u001b[0m \u001b[0;34m\u001b[0m\u001b[0m\n\u001b[1;32m   1395\u001b[0m     \u001b[0;32mdef\u001b[0m \u001b[0mfit\u001b[0m\u001b[0;34m(\u001b[0m\u001b[0mself\u001b[0m\u001b[0;34m,\u001b[0m \u001b[0mX\u001b[0m\u001b[0;34m,\u001b[0m \u001b[0my\u001b[0m\u001b[0;34m,\u001b[0m \u001b[0msample_weight\u001b[0m\u001b[0;34m=\u001b[0m\u001b[0;32mNone\u001b[0m\u001b[0;34m,\u001b[0m \u001b[0mmonitor\u001b[0m\u001b[0;34m=\u001b[0m\u001b[0;32mNone\u001b[0m\u001b[0;34m)\u001b[0m\u001b[0;34m:\u001b[0m\u001b[0;34m\u001b[0m\u001b[0;34m\u001b[0m\u001b[0m\n",
      "\u001b[0;32m~/anaconda3/lib/python3.7/site-packages/sklearn/utils/validation.py\u001b[0m in \u001b[0;36mcheck_is_fitted\u001b[0;34m(estimator, attributes, msg, all_or_any)\u001b[0m\n\u001b[1;32m    912\u001b[0m \u001b[0;34m\u001b[0m\u001b[0m\n\u001b[1;32m    913\u001b[0m     \u001b[0;32mif\u001b[0m \u001b[0;32mnot\u001b[0m \u001b[0mall_or_any\u001b[0m\u001b[0;34m(\u001b[0m\u001b[0;34m[\u001b[0m\u001b[0mhasattr\u001b[0m\u001b[0;34m(\u001b[0m\u001b[0mestimator\u001b[0m\u001b[0;34m,\u001b[0m \u001b[0mattr\u001b[0m\u001b[0;34m)\u001b[0m \u001b[0;32mfor\u001b[0m \u001b[0mattr\u001b[0m \u001b[0;32min\u001b[0m \u001b[0mattributes\u001b[0m\u001b[0;34m]\u001b[0m\u001b[0;34m)\u001b[0m\u001b[0;34m:\u001b[0m\u001b[0;34m\u001b[0m\u001b[0;34m\u001b[0m\u001b[0m\n\u001b[0;32m--> 914\u001b[0;31m         \u001b[0;32mraise\u001b[0m \u001b[0mNotFittedError\u001b[0m\u001b[0;34m(\u001b[0m\u001b[0mmsg\u001b[0m \u001b[0;34m%\u001b[0m \u001b[0;34m{\u001b[0m\u001b[0;34m'name'\u001b[0m\u001b[0;34m:\u001b[0m \u001b[0mtype\u001b[0m\u001b[0;34m(\u001b[0m\u001b[0mestimator\u001b[0m\u001b[0;34m)\u001b[0m\u001b[0;34m.\u001b[0m\u001b[0m__name__\u001b[0m\u001b[0;34m}\u001b[0m\u001b[0;34m)\u001b[0m\u001b[0;34m\u001b[0m\u001b[0;34m\u001b[0m\u001b[0m\n\u001b[0m\u001b[1;32m    915\u001b[0m \u001b[0;34m\u001b[0m\u001b[0m\n\u001b[1;32m    916\u001b[0m \u001b[0;34m\u001b[0m\u001b[0m\n",
      "\u001b[0;31mNotFittedError\u001b[0m: This GradientBoostingRegressor instance is not fitted yet. Call 'fit' with appropriate arguments before using this method."
     ]
    }
   ],
   "source": [
    "print(\"The train set R^2 is: %.5f\" % gbm.score(X_train, y_train))\n",
    "print(\"The test set R^2 is is: %.5f\" % gbm.score(X_test, y_test))"
   ]
  },
  {
   "cell_type": "code",
   "execution_count": 111,
   "metadata": {},
   "outputs": [
    {
     "name": "stdout",
     "output_type": "stream",
     "text": [
      "Mean Absolute Error (MAE): $ 14893.8\n",
      "Mean Squared Error (MSE): 0.015200394141492565\n",
      "Root Mean Square Error (RMSE): 0.12328987850384379\n",
      "Mean Absolute Percent Error (MAPE): SalePrice   NaN\n",
      "0           NaN\n",
      "1           NaN\n",
      "2           NaN\n",
      "3           NaN\n",
      "4           NaN\n",
      "5           NaN\n",
      "6           NaN\n",
      "7           NaN\n",
      "8           NaN\n",
      "9           NaN\n",
      "10          NaN\n",
      "11          NaN\n",
      "12          NaN\n",
      "13          NaN\n",
      "14          NaN\n",
      "15          NaN\n",
      "16          NaN\n",
      "17          NaN\n",
      "18          NaN\n",
      "19          NaN\n",
      "20          NaN\n",
      "21          NaN\n",
      "22          NaN\n",
      "23          NaN\n",
      "24          NaN\n",
      "25          NaN\n",
      "26          NaN\n",
      "27          NaN\n",
      "28          NaN\n",
      "29          NaN\n",
      "30          NaN\n",
      "31          NaN\n",
      "32          NaN\n",
      "33          NaN\n",
      "34          NaN\n",
      "35          NaN\n",
      "36          NaN\n",
      "37          NaN\n",
      "38          NaN\n",
      "39          NaN\n",
      "40          NaN\n",
      "41          NaN\n",
      "42          NaN\n",
      "43          NaN\n",
      "44          NaN\n",
      "45          NaN\n",
      "46          NaN\n",
      "47          NaN\n",
      "48          NaN\n",
      "             ..\n",
      "242         NaN\n",
      "243         NaN\n",
      "244         NaN\n",
      "245         NaN\n",
      "246         NaN\n",
      "247         NaN\n",
      "248         NaN\n",
      "249         NaN\n",
      "250         NaN\n",
      "251         NaN\n",
      "252         NaN\n",
      "253         NaN\n",
      "254         NaN\n",
      "255         NaN\n",
      "256         NaN\n",
      "257         NaN\n",
      "258         NaN\n",
      "259         NaN\n",
      "260         NaN\n",
      "261         NaN\n",
      "262         NaN\n",
      "263         NaN\n",
      "264         NaN\n",
      "265         NaN\n",
      "266         NaN\n",
      "267         NaN\n",
      "268         NaN\n",
      "269         NaN\n",
      "270         NaN\n",
      "271         NaN\n",
      "272         NaN\n",
      "273         NaN\n",
      "274         NaN\n",
      "275         NaN\n",
      "276         NaN\n",
      "277         NaN\n",
      "278         NaN\n",
      "279         NaN\n",
      "280         NaN\n",
      "281         NaN\n",
      "282         NaN\n",
      "283         NaN\n",
      "284         NaN\n",
      "285         NaN\n",
      "286         NaN\n",
      "287         NaN\n",
      "288         NaN\n",
      "289         NaN\n",
      "290         NaN\n",
      "291         NaN\n",
      "Length: 293, dtype: float64 %.\n"
     ]
    }
   ],
   "source": [
    "# Initial prediction\n",
    "gbm_pred = gbm.predict(X_test)\n",
    "\n",
    "# Calculate the absolute errors\n",
    "errors = abs(np.expm1(gbm_pred) - np.expm1(y_test.SalePrice))\n",
    "\n",
    "# Print out MAE, MSE, and RMSE\n",
    "print('Mean Absolute Error (MAE): $', round(np.mean(errors), 2))\n",
    "print('Mean Squared Error (MSE):', mean_squared_error(y_test, gbm_pred))\n",
    "print('Root Mean Square Error (RMSE):', np.sqrt(mean_squared_error(y_test, gbm_pred)))\n",
    "\n",
    "# Calculate mean absolute percentage error (MAPE)\n",
    "mape = 100 * (errors / np.expm1(y_test))\n",
    "print('Mean Absolute Percent Error (MAPE):', round(np.mean(mape), 2), '%.')"
   ]
  },
  {
   "cell_type": "code",
   "execution_count": null,
   "metadata": {},
   "outputs": [],
   "source": [
    "# Tune hyperparameters (GBM)"
   ]
  },
  {
   "cell_type": "code",
   "execution_count": null,
   "metadata": {},
   "outputs": [],
   "source": [
    "gbm_param_grid={'n_estimators':[300, 400, 500, 600],\n",
    "                'learning_rate':[0.05, 0.1, 1.5],\n",
    "                'max_depth':[1, 2, 3],\n",
    "                'min_samples_leaf':[1, 2, 3, 4]}"
   ]
  },
  {
   "cell_type": "code",
   "execution_count": null,
   "metadata": {},
   "outputs": [],
   "source": [
    "grid_search_gbm = GridSearchCV(gbm, gbm_param_grid, scoring='neg_mean_squared_error', \n",
    "                                     n_jobs=-1, return_train_score = True, verbose = 1)\n",
    "\n",
    "%time  grid_search_gbm.fit(X_train, y_train)"
   ]
  },
  {
   "cell_type": "code",
   "execution_count": null,
   "metadata": {},
   "outputs": [],
   "source": [
    "# get the best parameters\n",
    "grid_search_gbm.best_params_"
   ]
  },
  {
   "cell_type": "code",
   "execution_count": null,
   "metadata": {},
   "outputs": [],
   "source": [
    "grid_gbm = grid_search_gbm.best_estimator_"
   ]
  },
  {
   "cell_type": "code",
   "execution_count": null,
   "metadata": {},
   "outputs": [],
   "source": [
    "#Prediction with tuned hyperparameters\n",
    "grid_gbm_pred = grid_gbm.predict(X_test)\n",
    "\n",
    "# Calculate the absolute errors\n",
    "errors = abs(np.expm1(grid_gbm_pred) - np.expm1(y_test))\n",
    "\n",
    "# Print out MAE, MSE, and RMSE\n",
    "print('Mean Absolute Error (MAE): $', round(np.mean(errors), 2))\n",
    "print('Mean Squared Error (MSE):', mean_squared_error(y_test, pd.DataFrame(grid_gbm_pred[1]))\n",
    "print('Root Mean Square Error (RMSE):', np.sqrt(mean_squared_error(y_test, pd.DataFrame(grid_gbm_pred[1])))\n",
    "\n",
    "# Calculate mean absolute percentage error (MAPE)\n",
    "mape = 100 * (errors / np.expm1(y_test))\n",
    "print('Mean Absolute Percent Error (MAPE):', round(np.mean(mape), 2), '%.')"
   ]
  },
  {
   "cell_type": "code",
   "execution_count": null,
   "metadata": {},
   "outputs": [],
   "source": [
    "gbm_param_grid1={'n_estimators':[1000, 2000, 3000],\n",
    "                'learning_rate':[0.01, 0.05, 0.1],\n",
    "                'max_depth':[2, 3, 4],\n",
    "                'min_samples_leaf':[5, 10, 15],\n",
    "                'min_samples_split': [5, 10],\n",
    "                'loss':['huber']}"
   ]
  },
  {
   "cell_type": "code",
   "execution_count": null,
   "metadata": {},
   "outputs": [],
   "source": [
    "grid_search_gbm1 = GridSearchCV(gbm, gbm_param_grid1, scoring='neg_mean_squared_error', \n",
    "                                      n_jobs=-1, return_train_score = True, verbose = 1)\n",
    "\n",
    "%time  grid_search_gbm1.fit(X_train, y_train)"
   ]
  },
  {
   "cell_type": "code",
   "execution_count": null,
   "metadata": {},
   "outputs": [],
   "source": [
    "# get the best parameters\n",
    "grid_search_gbm1.best_params_"
   ]
  },
  {
   "cell_type": "code",
   "execution_count": null,
   "metadata": {},
   "outputs": [],
   "source": [
    "grid_gbm1 = grid_search_gbm1.best_estimator_"
   ]
  },
  {
   "cell_type": "code",
   "execution_count": null,
   "metadata": {},
   "outputs": [],
   "source": [
    "#Prediction with tuned hyperparameters\n",
    "grid_gbm_pred1 = grid_gbm1.predict(X_test)\n",
    "\n",
    "# Calculate the absolute errors\n",
    "errors = abs(np.expm1(grid_gbm_pred1) - np.expm1(y_test))\n",
    "\n",
    "# Print out MAE, MSE, and RMSE\n",
    "print('Mean Absolute Error (MAE): $', round(np.mean(errors), 2))\n",
    "print('Mean Squared Error (MSE):', mean_squared_error(y_test, grid_gbm_pred1))\n",
    "print('Root Mean Square Error (RMSE):', np.sqrt(mean_squared_error(y_test, grid_gbm_pred1)))\n",
    "\n",
    "# Calculate mean absolute percentage error (MAPE)\n",
    "mape = 100 * (errors / np.expm1(y_test))\n",
    "print('Mean Absolute Percent Error (MAPE):', round(np.mean(mape), 2), '%.')"
   ]
  },
  {
   "cell_type": "code",
   "execution_count": null,
   "metadata": {},
   "outputs": [],
   "source": [
    "print(\"The train set R^2 is: %.5f\" % grid_gbm.score(X_train, y_train))\n",
    "print(\"The test set R^2 is is: %.5f\" % grid_gbm.score(X_test, y_test))"
   ]
  },
  {
   "cell_type": "code",
   "execution_count": null,
   "metadata": {},
   "outputs": [],
   "source": [
    "y_train_gradientboost = grid_gbm.predict(X_train)\n",
    "y_test_gradientboost = grid_gbm.predict(X_test)\n",
    "\n",
    "# Plot predictions\n",
    "plt.figure(figsize=(12,8))\n",
    "plt.scatter(np.expm1(y_train_gradientboost), np.expm1(y_train), c='black', marker=\"o\", s=15, label = \"Training data\")\n",
    "plt.scatter(np.expm1(y_test_gradientboost), np.expm1(y_test), c='orange', marker='o', s=15, label = \"Validation data\")\n",
    "plt.title(\"Gradient Boosting\", fontsize = 20)\n",
    "plt.xlabel(\"Predicted Prices\", fontsize = 16)\n",
    "plt.ylabel(\"Actual Prices\", fontsize = 16)\n",
    "plt.xlim(0, 800000)\n",
    "plt.ylim(0, 800000)\n",
    "plt.legend(loc = \"upper left\")\n",
    "plt.plot([0, 800000], [0, 800000], c = \"grey\")\n",
    "plt.show()"
   ]
  },
  {
   "cell_type": "code",
   "execution_count": null,
   "metadata": {},
   "outputs": [],
   "source": [
    "# XGBoost"
   ]
  },
  {
   "cell_type": "code",
   "execution_count": null,
   "metadata": {},
   "outputs": [],
   "source": [
    "xgb = XGBRegressor()\n",
    "\n",
    "xgb.set_params(random_state=22)"
   ]
  },
  {
   "cell_type": "code",
   "execution_count": null,
   "metadata": {},
   "outputs": [],
   "source": [
    "xgb.fit(X_train, y_train)"
   ]
  },
  {
   "cell_type": "code",
   "execution_count": null,
   "metadata": {},
   "outputs": [],
   "source": [
    "print(\"The train set R^2 is: %.5f\" % xgb.score(X_train, y_train))\n",
    "print(\"The test set R^2 is is: %.5f\" % xgb.score(X_test, y_test))"
   ]
  },
  {
   "cell_type": "code",
   "execution_count": null,
   "metadata": {},
   "outputs": [],
   "source": [
    "# Initial prediction\n",
    "xgb_pred = xgb.predict(X_test)\n",
    "\n",
    "# Calculate the absolute errors\n",
    "errors = abs(np.expm1(xgb_pred) - np.expm1(y_test))\n",
    "\n",
    "# Print out MAE, MSE, and RMSE\n",
    "print('Mean Absolute Error (MAE): $', round(np.mean(errors), 2))\n",
    "print('Mean Squared Error (MSE):', mean_squared_error(y_test, xgb_pred))\n",
    "print('Root Mean Square Error (RMSE):', np.sqrt(mean_squared_error(y_test, xgb_pred)))\n",
    "\n",
    "# Calculate mean absolute percentage error (MAPE)\n",
    "mape = 100 * (errors / np.expm1(y_test))\n",
    "print('Mean Absolute Percent Error (MAPE):', round(np.mean(mape), 2), '%.')"
   ]
  },
  {
   "cell_type": "code",
   "execution_count": null,
   "metadata": {},
   "outputs": [],
   "source": [
    "# Tune"
   ]
  },
  {
   "cell_type": "code",
   "execution_count": null,
   "metadata": {},
   "outputs": [],
   "source": [
    "xgb_param_grid ={'learning_rate': [0.01, 0.05, 0.1],\n",
    "                 'max_depth': [2, 3, 4, 5, 6],\n",
    "                 'min_child_weight': [4, 5, 6],\n",
    "                 'n_estimators': [400, 450, 500, 550, 600]}\n",
    "\n",
    "grid_search_xgb = GridSearchCV(xgb, xgb_param_grid, scoring='neg_mean_squared_error', \n",
    "                                     n_jobs=-1, return_train_score = True)\n",
    "\n",
    "%time grid_search_xgb.fit(X_train, y_train)"
   ]
  },
  {
   "cell_type": "code",
   "execution_count": null,
   "metadata": {},
   "outputs": [],
   "source": [
    "# get the best parameters\n",
    "grid_search_xgb.best_params_"
   ]
  },
  {
   "cell_type": "code",
   "execution_count": null,
   "metadata": {},
   "outputs": [],
   "source": [
    "grid_xgb = grid_search_xgb.best_estimator_"
   ]
  },
  {
   "cell_type": "code",
   "execution_count": null,
   "metadata": {},
   "outputs": [],
   "source": [
    "print(\"The train set R^2 is: %.5f\" % grid_xgb.score(X_train, y_train))\n",
    "print(\"The test set R^2 is is: %.5f\" % grid_xgb.score(X_test, y_test))"
   ]
  },
  {
   "cell_type": "code",
   "execution_count": null,
   "metadata": {},
   "outputs": [],
   "source": [
    "#Prediction with tuned hyperparameters\n",
    "grid_xgb_pred = grid_xgb.predict(X_test)\n",
    "\n",
    "# Calculate the absolute errors\n",
    "errors = abs(np.expm1(grid_xgb_pred) - np.expm1(y_test))\n",
    "\n",
    "# Print out MAE, MSE, and RMSE\n",
    "print('Mean Absolute Error (MAE): $', round(np.mean(errors), 2))\n",
    "print('Mean Squared Error (MSE):', mean_squared_error(y_test, grid_xgb_pred))\n",
    "print('Root Mean Square Error (RMSE):', np.sqrt(mean_squared_error(y_test, grid_xgb_pred)))\n",
    "\n",
    "# Calculate mean absolute percentage error (MAPE)\n",
    "mape = 100 * (errors / np.expm1(y_test))\n",
    "print('Mean Absolute Percent Error (MAPE):', round(np.mean(mape), 2), '%.')"
   ]
  },
  {
   "cell_type": "code",
   "execution_count": null,
   "metadata": {},
   "outputs": [],
   "source": [
    "xgb_param_grid1 ={'learning_rate': [0.01],\n",
    "                 'max_depth': [3],\n",
    "                 'min_child_weight': [0],\n",
    "                 'n_estimators': [3460],\n",
    "                 'subsample': [0.7],\n",
    "                 'colsample_bytree' : [0.7],\n",
    "                 'objective':['reg:linear'],\n",
    "                 'nthread':[-1],\n",
    "                 'scale_pos_weight':[1],\n",
    "                 'seed':[27],\n",
    "                 'reg_alpha': [0.00006]}\n",
    "                 \n",
    "\n",
    "grid_search_xgb1 = GridSearchCV(xgb, xgb_param_grid1, scoring='neg_mean_squared_error', \n",
    "                                     cv= kf, n_jobs=-1, return_train_score = True)\n",
    "\n",
    "%time grid_search_xgb1.fit(X_train, y_train)"
   ]
  },
  {
   "cell_type": "code",
   "execution_count": null,
   "metadata": {},
   "outputs": [],
   "source": [
    "grid_search_xgb1.best_params_"
   ]
  },
  {
   "cell_type": "code",
   "execution_count": null,
   "metadata": {},
   "outputs": [],
   "source": [
    "grid_xgb1 = grid_search_xgb1.best_estimator_"
   ]
  },
  {
   "cell_type": "code",
   "execution_count": null,
   "metadata": {},
   "outputs": [],
   "source": [
    "print(\"The train set R^2 is: %.5f\" % grid_xgb1.score(X_train, y_train))\n",
    "print(\"The test set R^2 is is: %.5f\" % grid_xgb1.score(X_test, y_test))"
   ]
  },
  {
   "cell_type": "code",
   "execution_count": null,
   "metadata": {},
   "outputs": [],
   "source": [
    "#Prediction with tuned hyperparameters\n",
    "grid_xgb_pred1 = grid_xgb1.predict(X_test)\n",
    "\n",
    "# Calculate the absolute errors\n",
    "errors = abs(np.expm1(grid_xgb_pred) - np.expm1(y_test))\n",
    "\n",
    "# Print out MAE, MSE, and RMSE\n",
    "print('Mean Absolute Error (MAE): $', round(np.mean(errors), 2))\n",
    "print('Mean Squared Error (MSE):', mean_squared_error(y_test, grid_xgb_pred1))\n",
    "print('Root Mean Square Error (RMSE):', np.sqrt(mean_squared_error(y_test, grid_xgb_pred1)))\n",
    "\n",
    "# Calculate mean absolute percentage error (MAPE)\n",
    "mape = 100 * (errors / np.expm1(y_test))\n",
    "print('Mean Absolute Percent Error (MAPE):', round(np.mean(mape), 2), '%.')"
   ]
  },
  {
   "cell_type": "code",
   "execution_count": null,
   "metadata": {},
   "outputs": [],
   "source": [
    "y_train_xgboost =grid_xgb.predict(X_train)\n",
    "y_test_xgboost = grid_xgb.predict(X_test)\n",
    "\n",
    "# Plot predictions\n",
    "plt.figure(figsize=(12,8))\n",
    "plt.scatter(np.expm1(y_train_xgboost), np.expm1(y_train), c='black', marker=\"o\", s=15, label = \"Training data\")\n",
    "plt.scatter(np.expm1(y_test_xgboost), np.expm1(y_test), c='orange', marker='o', s=15, label = \"Validation data\")\n",
    "plt.title(\"XGBoost\", fontsize = 20)\n",
    "plt.xlabel(\"Predicted Prices\", fontsize = 16)\n",
    "plt.ylabel(\"Actual Prices\", fontsize = 16)\n",
    "plt.xlim(0, 800000)\n",
    "plt.ylim(0, 800000)\n",
    "plt.legend(loc = \"upper left\")\n",
    "plt.plot([0, 800000], [0, 800000], c = \"grey\")\n",
    "plt.show()"
   ]
  },
  {
   "cell_type": "code",
   "execution_count": null,
   "metadata": {},
   "outputs": [],
   "source": [
    "# Stacking"
   ]
  },
  {
   "cell_type": "code",
   "execution_count": null,
   "metadata": {},
   "outputs": [],
   "source": [
    "# Blending"
   ]
  },
  {
   "cell_type": "code",
   "execution_count": null,
   "metadata": {},
   "outputs": [],
   "source": []
  },
  {
   "cell_type": "code",
   "execution_count": null,
   "metadata": {},
   "outputs": [],
   "source": []
  }
 ],
 "metadata": {
  "kernelspec": {
   "display_name": "Python 3",
   "language": "python",
   "name": "python3"
  },
  "language_info": {
   "codemirror_mode": {
    "name": "ipython",
    "version": 3
   },
   "file_extension": ".py",
   "mimetype": "text/x-python",
   "name": "python",
   "nbconvert_exporter": "python",
   "pygments_lexer": "ipython3",
   "version": "3.7.3"
  }
 },
 "nbformat": 4,
 "nbformat_minor": 2
}
